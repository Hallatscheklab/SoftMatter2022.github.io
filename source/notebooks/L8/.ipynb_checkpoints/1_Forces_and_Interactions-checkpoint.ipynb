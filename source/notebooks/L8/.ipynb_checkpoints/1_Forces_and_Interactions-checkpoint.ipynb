{
 "cells": [
  {
   "cell_type": "markdown",
   "id": "e40f4773",
   "metadata": {},
   "source": [
    "### Dipole-Dipole Interactions"
   ]
  },
  {
   "cell_type": "markdown",
   "id": "33ddd975-3e23-4bfe-873b-15afd881f6f5",
   "metadata": {},
   "source": [
    "The interaction of two dipole will depend on three angles, the two angles of the dipoles with the connecting axis $\\theta_1, \\theta_2$ and the angle $\\phi$ between the two planes which contain the individual dipoles and the axis. The figure below shows the corresponding geometry. "
   ]
  },
  {
   "cell_type": "markdown",
   "id": "7615e280",
   "metadata": {},
   "source": [
    "![Dipole](img/dipole_dipole.png)"
   ]
  },
  {
   "cell_type": "markdown",
   "id": "99ec7a7c-674a-422f-aba1-d03fd53819d0",
   "metadata": {},
   "source": [
    "The energy of the two dipoles at a distance $r$ follows then wihtout a detailed calculation with\n",
    "\n",
    "\\begin{equation}\n",
    "w(r,\\theta_2,\\theta_2,\\phi)=-\\frac{u_1 u_2}{4\\pi \\epsilon_0 \\epsilon r^3}\\left [ 2\\cos(\\theta_1) \\cos(\\theta_2)-\\sin(\\theta_1)\\sin(\\theta_2)\\cos(\\phi)\\right ]\n",
    "\\end{equation}\n",
    "\n",
    "The image below  (taken from the book by Israelachvili) shows the dipole dipole interaction energy for the **parallel** and the **in-line** configuration as indicated. As shown, the in-line configutation with facing opposite charges is more favorable."
   ]
  },
  {
   "cell_type": "markdown",
   "id": "044ee0fa-5fc0-4447-8b14-c3272c79f3e9",
   "metadata": {},
   "source": [
    "![Dipole Energy](img/dipole_energy.png)"
   ]
  },
  {
   "cell_type": "markdown",
   "id": "469271ae-6568-4617-aaf2-0aa944a740f9",
   "metadata": {},
   "source": [
    "The energies that are typically found are also larger than the thermal energy at room temperature and thefore lead to ordering effects. "
   ]
  }
 ],
 "metadata": {
  "kernelspec": {
   "display_name": "Python 3 (ipykernel)",
   "language": "python",
   "name": "python3"
  },
  "language_info": {
   "codemirror_mode": {
    "name": "ipython",
    "version": 3
   },
   "file_extension": ".py",
   "mimetype": "text/x-python",
   "name": "python",
   "nbconvert_exporter": "python",
   "pygments_lexer": "ipython3",
   "version": "3.8.5"
  },
  "toc": {
   "base_numbering": 1,
   "nav_menu": {},
   "number_sections": true,
   "sideBar": true,
   "skip_h1_title": false,
   "title_cell": "Table of Contents",
   "title_sidebar": "Contents",
   "toc_cell": false,
   "toc_position": {},
   "toc_section_display": true,
   "toc_window_display": false
  },
  "widgets": {
   "application/vnd.jupyter.widget-state+json": {
    "state": {},
    "version_major": 2,
    "version_minor": 0
   }
  }
 },
 "nbformat": 4,
 "nbformat_minor": 5
}
