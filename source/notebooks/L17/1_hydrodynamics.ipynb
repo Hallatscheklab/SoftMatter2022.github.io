{
 "cells": [
  {
   "cell_type": "markdown",
   "id": "7daaa94f",
   "metadata": {},
   "source": [
    "# Hydrodynamics\n"
   ]
  },
  {
   "cell_type": "code",
   "execution_count": 1,
   "id": "b52b9f35",
   "metadata": {
    "tags": []
   },
   "outputs": [],
   "source": [
    "import numpy as np\n",
    "import matplotlib.pyplot as plt\n",
    "from numpy.linalg import norm\n",
    "from scipy.constants import c,epsilon_0,e,physical_constants\n",
    "import json\n",
    "\n",
    "%config InlineBackend.figure_format = 'retina' \n",
    "\n",
    "with open('style.json', 'r') as fp:\n",
    "    style = json.load(fp)\n",
    "    \n",
    "plt.rcParams.update(style) "
   ]
  },
  {
   "cell_type": "markdown",
   "id": "fd6a5b3b",
   "metadata": {},
   "source": [
    "Hydrodynamics provides the fundamental equations to describe the motion of a fluid. Note that a fluid can therby be a gas or a liquid. Gases and liquids may have completely different flow properties as in liquids the mean free path of a molecule is much smaller than the size of the liquif container. This is something, that is not alway true for gases. "
   ]
  },
  {
   "cell_type": "markdown",
   "id": "49319d21",
   "metadata": {},
   "source": [
    "In fluid dynamics, we are interested in the motion of a value element of a fluid, which flows with a velocity $\\vec{u}$. As the whole fluid moves, each volume element may have a different flow velocity, which results in a flow field $\\vec{u}(\\vec{r},t)$. Each component of the flow field depends now on each coordinate, i.e. \n",
    "\n",
    "$$\n",
    "\\vec{u}=\n",
    "\\begin{Bmatrix}\n",
    "u(x,y,z,t)\\\\\n",
    "v(x,y,z,t)\\\\\n",
    "w(x,y,z,t)\n",
    "\\end{Bmatrix}\n",
    "$$\n",
    "\n",
    "In case of a stationary flow, the components do not explicitly depend on time, which means\n",
    "\n",
    "$$\n",
    "\\frac{\\partial \\vec{u}}{\\partial t}=0\n",
    "$$"
   ]
  },
  {
   "cell_type": "markdown",
   "id": "250d5629",
   "metadata": {},
   "source": [
    "<div class=\"alert alert-warning\">\n",
    "**Streamline**\n",
    " \n",
    "    \n",
    "    A streamline is a curve where each point on the curve has the same direction as $\\vec{u}$ without requiring the $\\vec{u}$ is constant along the streamline. This means that there are no perpendicular velocity components along a streamline, i.e. $d\\vec{r}\\times \\vec{u}=0$.\n",
    " \n",
    "Picture of a streamtube goes here.    \n",
    "    \n",
    "</div>"
   ]
  },
  {
   "cell_type": "markdown",
   "id": "a0258a5b",
   "metadata": {},
   "source": [
    "When we now follow the motion of a fluid element in space and time we notice that a change in the velocity $d\\vec{u}$ can be achieved by\n",
    "\n",
    "$$\n",
    "d\\vec{u}=\\frac{\\partial \\vec{u}}{\\partial t}\\bigg|_{\\vec{r}}dt+\\frac{\\partial \\vec{u}}{\\partial x}\\bigg|_{\\vec{r}}dx+\\frac{\\partial \\vec{u}}{\\partial y}\\bigg|_{\\vec{r}}dy+\\frac{\\partial \\vec{u}}{\\partial z}\\bigg|_{\\vec{r}}dz\n",
    "$$\n",
    "\n",
    "which when dividing by $dt$ results in\n",
    "\n",
    "\\begin{eqnarray}\n",
    "\\frac{d\\vec{u}}{dt} &= &\\frac{\\partial \\vec{u}}{\\partial t}+\\frac{\\partial \\vec{u}}{\\partial x}\\frac{dx}{dt}+\\frac{\\partial \\vec{u}}{\\partial y}\\frac{dy}{dt}+\\frac{\\partial \\vec{u}}{\\partial z}\\frac{dz}{dt}\\\\\n",
    "&=& \\frac{\\partial \\vec{u}}{\\partial t}+(\\vec{u}\\cdot \\nabla)\\vec{u}\n",
    "\\end{eqnarray}"
   ]
  },
  {
   "cell_type": "markdown",
   "id": "f925c3cd",
   "metadata": {},
   "source": [
    "This is the total derivative, which is called the *substantial derivative*:\n",
    "\n",
    "$$\n",
    "\\frac{D}{Dt}=\\frac{\\partial}{\\partial t} + \\vec{u}\\nabla \n",
    "$$\n",
    "\n",
    "and states, that a change in the velocity can be caused by a temporal change but also by a convective motion (different places have different velocities). The term $\\vec{u}\\nabla $ is therefore called the *convective derivative*."
   ]
  },
  {
   "cell_type": "markdown",
   "id": "52bf1cf7",
   "metadata": {},
   "source": [
    "## Navier Stokes Equation"
   ]
  },
  {
   "cell_type": "markdown",
   "id": "c9cff493",
   "metadata": {},
   "source": [
    "We obtain a force density from the above equations if we multiply the above derived velocity change with the mass density $\\rho$ of the fluid. This force density is the result of all possible forces that are present in the system. We thus have to consider possible forces on a volume element. \n",
    "\n",
    "a) We would like to simplify our considerations by assuming an incompressibility of the liquid, i.e. \n",
    "\n",
    "$$\n",
    "\\nabla \\cdot \\vec{u}=0 \\tag{incompressibility}\n",
    "$$\n",
    "\n",
    "b) On eof the causes of a flow could be a pressure acting on the surface of a volume element"
   ]
  },
  {
   "cell_type": "markdown",
   "id": "f4ff4e3d",
   "metadata": {},
   "source": []
  },
  {
   "cell_type": "markdown",
   "id": "3398f33f",
   "metadata": {},
   "source": []
  }
 ],
 "metadata": {
  "kernelspec": {
   "display_name": "Python 3 (ipykernel)",
   "language": "python",
   "name": "python3"
  },
  "language_info": {
   "codemirror_mode": {
    "name": "ipython",
    "version": 3
   },
   "file_extension": ".py",
   "mimetype": "text/x-python",
   "name": "python",
   "nbconvert_exporter": "python",
   "pygments_lexer": "ipython3",
   "version": "3.8.5"
  },
  "toc": {
   "base_numbering": 1,
   "nav_menu": {},
   "number_sections": true,
   "sideBar": true,
   "skip_h1_title": false,
   "title_cell": "Table of Contents",
   "title_sidebar": "Contents",
   "toc_cell": false,
   "toc_position": {},
   "toc_section_display": true,
   "toc_window_display": false
  },
  "widgets": {
   "application/vnd.jupyter.widget-state+json": {
    "state": {},
    "version_major": 2,
    "version_minor": 0
   }
  }
 },
 "nbformat": 4,
 "nbformat_minor": 5
}
