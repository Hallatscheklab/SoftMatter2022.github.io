{
 "cells": [
  {
   "cell_type": "markdown",
   "id": "29dc1f98-2e78-40e0-9db8-60746487faed",
   "metadata": {},
   "source": [
    "# Electric Double Layer"
   ]
  },
  {
   "cell_type": "markdown",
   "id": "b8f52dc6-4d29-4ed2-9c2b-bb372cb1e3c9",
   "metadata": {},
   "source": [
    "## Charges surfaces in solution, no salt\n",
    "\n",
    "We are going to consider first a situation, in which there is a solid surface (for example glass) in contact with a solution, which is presumably water. In this case, surface chemical groups on the solid may dissociate due to the high dielectric constant of water such that the residular surface is charged and some ions are dissolved in the solution. We will assume that there is no extra salt which is dissolved in water. \n",
    "\n",
    "The questions that arise now are\n",
    "\n",
    "- How are the dissolved ions distributed in space?\n",
    "- How does the ion distribution depend on the surface charge?\n",
    "- How is the electrostatic potential inside the liquid?\n",
    "\n",
    "As the ions populate the regions according to their potential energy in the electric field of the surface charges, we have to combine the Poisson euqation with the Boltzmann equation to have a complete description. This combination will deliver us a mean field appraoch. "
   ]
  },
  {
   "cell_type": "markdown",
   "id": "1518e6c0-8207-4ecb-b109-468466997fe9",
   "metadata": {},
   "source": [
    "## Poisson-Boltzmann equation"
   ]
  },
  {
   "cell_type": "markdown",
   "id": "8eaff71c-6d26-47a4-869d-6f45282778fb",
   "metadata": {},
   "source": [
    "If we name the electrostatic potential $\\psi$ and number density of ions of a valancy $z$ $\\rho$, we can on one side write down the Boltzmann equation\n",
    "\n",
    "\\begin{equation}\n",
    "\\rho=\\rho_0 \\exp\\left ( -\\frac{z e\\psi}{k_B T}\\right)\\tag{Boltzmann equation}\n",
    "\\end{equation}\n",
    "\n",
    "end the Poisson equation as\n",
    "\n",
    "\\begin{equation}\n",
    "ze\\rho =-\\epsilon_0 \\epsilon \\frac{d^{2}\\psi}{dx^2}\\tag{Poisson equation}\n",
    "\\end{equation}\n",
    "\n",
    "As both contain the charge density $\\rho$ we can combine them to yield\n",
    "\n",
    "\\begin{equation}\n",
    "\\frac{d^2\\psi}{dx^2} = -\\frac{ze\\rho}{\\epsilon_0 \\epsilon} =-\\frac{ze \\rho_0}{\\epsilon_0 \\epsilon}\\exp\\left ( -\\frac{z e\\psi}{k_B T}\\right)\\tag{Poisson-Boltzmann equation}\n",
    "\\end{equation}\n",
    "\n",
    "the Poisson-Boltzmann equation, which is a non-linear differential equation in the potential $\\psi$ and therefore difficult to solve. "
   ]
  },
  {
   "cell_type": "code",
   "execution_count": null,
   "id": "4cc29cf9-ed84-4a0f-bf83-cc0d6e5256c6",
   "metadata": {},
   "outputs": [],
   "source": []
  }
 ],
 "metadata": {
  "kernelspec": {
   "display_name": "Python 3 (ipykernel)",
   "language": "python",
   "name": "python3"
  },
  "language_info": {
   "codemirror_mode": {
    "name": "ipython",
    "version": 3
   },
   "file_extension": ".py",
   "mimetype": "text/x-python",
   "name": "python",
   "nbconvert_exporter": "python",
   "pygments_lexer": "ipython3",
   "version": "3.8.5"
  },
  "widgets": {
   "application/vnd.jupyter.widget-state+json": {
    "state": {},
    "version_major": 2,
    "version_minor": 0
   }
  }
 },
 "nbformat": 4,
 "nbformat_minor": 5
}
