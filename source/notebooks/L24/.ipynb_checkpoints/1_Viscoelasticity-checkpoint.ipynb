{
 "cells": [
  {
   "cell_type": "markdown",
   "id": "19ce2e3d",
   "metadata": {},
   "source": [
    "# Viscoelasticity"
   ]
  },
  {
   "cell_type": "code",
   "execution_count": null,
   "id": "166775b7",
   "metadata": {},
   "outputs": [],
   "source": [
    "import numpy as np\n",
    "import matplotlib.pyplot as plt\n",
    "from numpy.linalg import norm\n",
    "from scipy.constants import c,epsilon_0,e,physical_constants\n",
    "import json\n",
    "\n",
    "%config InlineBackend.figure_format = 'retina' \n",
    "\n",
    "with open('style.json', 'r') as fp:q\n",
    "    style = json.load(fp)\n",
    "    \n",
    "plt.rcParams.update(style) "
   ]
  },
  {
   "cell_type": "markdown",
   "id": "65ca0a61",
   "metadata": {},
   "source": [
    "## Maxwell Model "
   ]
  },
  {
   "cell_type": "markdown",
   "id": "9fd4e3ee",
   "metadata": {},
   "source": [
    "![Maxwell](img/maxwell.png)\n",
    "\n",
    "Combing back to the Maxwell model, we have a serial combination of viscous and elastic element. Thus both elements feel the same stress $\\sigma$ and the deformation is the sum of the elastic and viscous deformation, i.e. $\\gamma=\\gamma_e+\\gamma_v$.\n",
    "\n",
    "We therefore find \n",
    "\n",
    "$$\n",
    "\\sigma=G_M\\gamma_e= \\eta_M\\frac{d\\gamma}{dt}\n",
    "$$\n",
    "\n",
    "or \n",
    "\n",
    "$$\n",
    "\\gamma_e=\\frac{\\eta_M}{G_M}\\frac{d\\gamma_v}{dt}\n",
    "$$\n",
    "\n",
    "where $\\eta_M/G_M$ defines a timescale for the viscous relaxation."
   ]
  },
  {
   "cell_type": "markdown",
   "id": "9c2c9afd",
   "metadata": {},
   "source": [
    "## Stress Relaxation after Step Strain"
   ]
  },
  {
   "cell_type": "markdown",
   "id": "cabf3760",
   "metadata": {},
   "source": [
    "## Boltzmann Superposition"
   ]
  },
  {
   "cell_type": "markdown",
   "id": "81dfab75",
   "metadata": {},
   "source": [
    "## Steady Shear"
   ]
  },
  {
   "cell_type": "markdown",
   "id": "cf0c2a20",
   "metadata": {},
   "source": [
    "## Creep and Creep Recovery"
   ]
  },
  {
   "cell_type": "markdown",
   "id": "748234ad",
   "metadata": {},
   "source": [
    "## Oscillatory Shear"
   ]
  }
 ],
 "metadata": {
  "kernelspec": {
   "display_name": "Python 3 (ipykernel)",
   "language": "python",
   "name": "python3"
  },
  "language_info": {
   "codemirror_mode": {
    "name": "ipython",
    "version": 3
   },
   "file_extension": ".py",
   "mimetype": "text/x-python",
   "name": "python",
   "nbconvert_exporter": "python",
   "pygments_lexer": "ipython3",
   "version": "3.8.5"
  },
  "toc": {
   "base_numbering": 1,
   "nav_menu": {},
   "number_sections": true,
   "sideBar": true,
   "skip_h1_title": false,
   "title_cell": "Table of Contents",
   "title_sidebar": "Contents",
   "toc_cell": false,
   "toc_position": {},
   "toc_section_display": true,
   "toc_window_display": false
  },
  "widgets": {
   "application/vnd.jupyter.widget-state+json": {
    "state": {},
    "version_major": 2,
    "version_minor": 0
   }
  }
 },
 "nbformat": 4,
 "nbformat_minor": 5
}
