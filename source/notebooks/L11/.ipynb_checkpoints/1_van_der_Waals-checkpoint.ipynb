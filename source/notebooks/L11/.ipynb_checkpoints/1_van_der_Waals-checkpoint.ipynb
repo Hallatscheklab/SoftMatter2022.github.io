{
 "cells": [
  {
   "cell_type": "markdown",
   "id": "c81d87c8",
   "metadata": {},
   "source": [
    "# van der Waals Interaction"
   ]
  },
  {
   "cell_type": "markdown",
   "id": "fb47000c",
   "metadata": {},
   "source": [
    "The semiclassical theory we have developed in the last lecture can also be extended to objects and bodies which are embedded in media. We therefore consider a spherical particle of radius $a_i$ of dielectric constant $\\epsilon_i$ in a mediums of dielectric constant $\\epsilon$. If an external electric field is applied, that the particle is polarized to obtain a dipole \n",
    "\n",
    "\\begin{equation}\n",
    "u_{\\rm ind}=4\\pi \\epsilon_0 \\epsilon \\frac{\\epsilon_i-\\epsilon}{\\epsilon_i+2\\epsilon}a_i^3E\n",
    "\\end{equation}\n",
    "\n",
    "This result is obtained as the spheres polarization is also influenced by the electric field generated in the medium around the sphere. This local electric field that is relevant has been considered by **Clausius and Mossotti**. \n",
    "\n",
    "According to $u_{\\rm ind}=\\alpha E$, we readily obtain the polarizability \n",
    "\n",
    "\\begin{equation}\n",
    "\\alpha(\\nu)=4\\pi \\epsilon_0 \\epsilon_3(\\nu)\\frac{\\epsilon_1(\\nu)-\\epsilon_3(\\nu)}{\\epsilon_1(\\nu)+2\\epsilon_3(\\nu)}a_1^3\n",
    "\\end{equation}\n",
    "\n",
    "This result shows that the dielectric function of the particle $\\epsilon_1$ needs to be different from the environment to obtain a contribution, which justifies the name excess polarizability.\n",
    "\n",
    "Using this polarizability, we can write down the the van der Waals interaction energy by McLachlan as\n",
    "\n",
    "**Zero Frequency**\n",
    "\n",
    "\\begin{equation}\n",
    "w(r)=-\\frac{3k_B T a_{1}^3a_2^3}{r^6}\\left ( \\frac{\\epsilon_1(0)-\\epsilon_3(0)}{\\epsilon_1(0)+2\\epsilon_3(0)}\\right )\\left ( \\frac{\\epsilon_2(0)-\\epsilon_3(0)}{\\epsilon_2(0)+2\\epsilon_3(0)}\\right )\n",
    "\\end{equation}\n",
    "\n",
    "and at "
   ]
  },
  {
   "cell_type": "markdown",
   "id": "307ed34f",
   "metadata": {},
   "source": [
    "**Optical Frequecies**\n",
    "\n",
    "\\begin{equation}\n",
    "w(r)=-\\frac{3h a_{1}^3a_2^3}{\\pi r^6}\\int_{\\nu_1}^\\infty\\left ( \\frac{\\epsilon_1(i\\nu)-\\epsilon_3(i\\nu)}{\\epsilon_1(i\\nu)+2\\epsilon_3(i\\nu)}\\right )\\left ( \\frac{\\epsilon_2(i\\nu)-\\epsilon_3(i\\nu)}{\\epsilon_2(i\\nu)+2\\epsilon_3(i\\nu)}\\right )d\\nu\n",
    "\\end{equation}\n",
    "\n",
    "\n",
    "To calculate the interaction energy we therefore need to know the dielectric function over the whole frequency range, which is often not easily accessible. Yet, if there is a strong absorption of the material at $\\nu_e$ then the dielectric function can be written as\n",
    "\n",
    "$$\\epsilon(\\nu)=1+\\frac{n^2-1}{1-\\left (\\frac{\\nu}{\\nu_e}\\right )^2}$$\n",
    "\n",
    "which can be inserted and integrated in the above equations as a replacement.\n"
   ]
  },
  {
   "cell_type": "markdown",
   "id": "02988dc8",
   "metadata": {},
   "source": [
    "<div class=\"alert alert-warning\">\n",
    "    \n",
    "**van der Waals interactions**\n",
    "\n",
    "Overall the van der Waals interactions have the following general properties\n",
    "    \n",
    "    - since $h\\nu_e >>k_B T$ the dispersion interaction is much bigger that the rest of the interaction. For $\\epsilon=n^2\\approx 2$, and $\\nu_e=3\\times 10^{15}$ s$^{-1}$ we find $h\\nu_e/2\\sqrt{3}k_B T\\approx 140$\n",
    "    - the van der Waals interaction is greatly reduced in a solvent as compared to vacuum. For $n_1=n_2=1.5$ and $n_3=1.4$ we obtain a factor of 32 as compared to $n_3=1$\n",
    "    - the van der Waals force between like molecules is always attractive. The dispersion part can be repulsive, however, if $n_3$ is between $n_1$ and $n_2$\n",
    "    - the van der Waals interaction is not additive\n",
    "    - the dispersion interaction shows retardation effects, at distances larger than $100$ nm, it decays with $r^{-7}$\n",
    "</div>"
   ]
  },
  {
   "cell_type": "markdown",
   "id": "9e2a9a9e",
   "metadata": {},
   "source": [
    "## Interaction Between Macroscopic Bodies"
   ]
  },
  {
   "cell_type": "markdown",
   "id": "beeb332b",
   "metadata": {},
   "source": [
    "The above equations, that we derived before are essentially valid between small objects at distances larger than their size. If objects become macroscopic, we have to consider the interaction of all components of a body with all components of the second body. To calculate those interactions, we will assume that all interactions are additive, while we know that this is not completely true for van der Waals forces. \n",
    "\n",
    "Our general law of interaction shall be\n",
    "\n",
    "$$w(r)=-\\frac{C}{r^n}$$\n",
    "\n",
    "where $C$ is the interaction constant, which comprises all additional constants in the interaction law.\n"
   ]
  },
  {
   "cell_type": "markdown",
   "id": "fffecce1",
   "metadata": {},
   "source": [
    "## Lifshitz Theory"
   ]
  }
 ],
 "metadata": {
  "kernelspec": {
   "display_name": "Python 3 (ipykernel)",
   "language": "python",
   "name": "python3"
  },
  "language_info": {
   "codemirror_mode": {
    "name": "ipython",
    "version": 3
   },
   "file_extension": ".py",
   "mimetype": "text/x-python",
   "name": "python",
   "nbconvert_exporter": "python",
   "pygments_lexer": "ipython3",
   "version": "3.8.5"
  },
  "toc": {
   "base_numbering": 1,
   "nav_menu": {},
   "number_sections": true,
   "sideBar": true,
   "skip_h1_title": false,
   "title_cell": "Table of Contents",
   "title_sidebar": "Contents",
   "toc_cell": false,
   "toc_position": {},
   "toc_section_display": true,
   "toc_window_display": false
  },
  "widgets": {
   "application/vnd.jupyter.widget-state+json": {
    "state": {},
    "version_major": 2,
    "version_minor": 0
   }
  }
 },
 "nbformat": 4,
 "nbformat_minor": 5
}
