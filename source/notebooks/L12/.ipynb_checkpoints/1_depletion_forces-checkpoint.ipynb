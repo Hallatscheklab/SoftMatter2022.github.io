{
 "cells": [
  {
   "cell_type": "markdown",
   "id": "734f2986-c9c9-4945-9202-6eb972c4c72c",
   "metadata": {},
   "source": [
    "# Depletion Forces\n",
    "\n",
    "Depletion forces are entropic forces which arise from osmotic pressure differences. These osmotic pressure differences are the result of regions in space which are excludeded from the access of certain components of a solution. In the simplest case, the a component of s solution is excluded due to steric interactions, i.e. the component does not fit into the region due to its size.\n",
    "\n"
   ]
  },
  {
   "cell_type": "code",
   "execution_count": 2,
   "id": "a297fa2b-9836-4d67-955c-467654fdbee0",
   "metadata": {},
   "outputs": [],
   "source": [
    "import numpy as np\n",
    "import matplotlib.pyplot as plt\n",
    "from numpy.linalg import norm\n",
    "from scipy.constants import c,epsilon_0,e,physical_constants\n",
    "\n",
    "%config InlineBackend.figure_format = 'retina' \n",
    "# the lines below set a number of parameters for plotting, such as label font size, \n",
    "# title font size, which you may find useful\n",
    "plt.rcParams.update({'font.size': 14,\n",
    "                     'font.family':'sans-serif',\n",
    "                     'axes.titlesize': 16,\n",
    "                     'axes.labelsize': 18,\n",
    "                     'axes.labelpad': 14,\n",
    "                     'lines.linewidth': 1,\n",
    "                     'lines.markersize': 10,\n",
    "                     'xtick.labelsize' : 18,\n",
    "                     'ytick.labelsize' : 18,\n",
    "                     'xtick.top' : True,\n",
    "                     'xtick.direction' : 'in',\n",
    "                     'ytick.right' : True,\n",
    "                     'ytick.direction' : 'in',}) "
   ]
  },
  {
   "cell_type": "markdown",
   "id": "3ba0c2ed-fcb9-4c45-bc44-64774bc51069",
   "metadata": {},
   "source": [
    "\n",
    "## Depletion force between two plates\n",
    "\n",
    "Consider the picture below, where colloids are contained in a suspension together with two plates. Then there is a region, which is inaccessible by the centers of the colloids of radius $\\sigma/2$ that is indicated by the dahsed lines. If these regions between the plates overlap, not colloid can enter this region and the number density of the colloids is different inside as compared to the outside. This creates an osmotic pressure difference.\n",
    "\n",
    "![depletion_plates](img/depletion_plates.png)\n",
    "\n",
    "The osmotic pressure difference can be calculated with the help of the van't Hoff equation for the osmotic pressure $\\Pi=nk_B T$, where $n$ is the number density. In the case the distance of the two plates is larger than the diamater of the two plates, $h>\\sigma$, we have $\\Pi_i=\\Pi_o= nk_B T$ so the difference $P=\\Pi_i-\\Pi_o=0$, so there is not pressure difference. \n",
    "In the case when there is no colloid between the plates we have $\\Pi_i =0$ and  $\\Pi_o =nk_B T$ such that\n",
    "\n",
    "\\begin{equation}\n",
    "P=\\Pi_i-\\Pi_o=-nk_B T\n",
    "\\end{equation}\n",
    "\n",
    "Thus there is an effective pressure that is compressing the two plates. As the force per area that is required is the pressure and thus \n",
    "\n",
    "\\begin{equation}\n",
    "P=-\\frac{dw}{dh}\n",
    "\\end{equation}\n",
    "\n",
    "we can calculate the energy per area that is needed to seperate the two plates to a distance $h$. This is then found to be linear in the distance $h$\n",
    "\n",
    "\\begin{equation}\n",
    "w(h)=-n k_B T (\\sigma-h)\n",
    "\\end{equation}\n",
    "\n",
    "for all $h<\\sigma$, while it is zero for $h>\\sigma$.\n",
    "\n"
   ]
  },
  {
   "cell_type": "code",
   "execution_count": 10,
   "id": "684021b9-037d-4ebe-bb85-8df84a7e333a",
   "metadata": {},
   "outputs": [],
   "source": [
    "def depletion(h,sigma,n):  \n",
    "    return(np.where(h<sigma, -n*(sigma-h),0))"
   ]
  },
  {
   "cell_type": "code",
   "execution_count": 16,
   "id": "7b5ec6fb-9285-4fa1-8354-abdf67e046d0",
   "metadata": {},
   "outputs": [],
   "source": [
    "sigma=1\n",
    "h=np.linspace(0,5,100)"
   ]
  },
  {
   "cell_type": "code",
   "execution_count": 17,
   "id": "5a4ec59f-c017-4a21-9775-8087dbfbd8cc",
   "metadata": {},
   "outputs": [
    {
     "data": {
      "image/png": "[encoded data removed]",
      "text/plain": [
       "<Figure size 432x288 with 1 Axes>"
      ]
     },
     "metadata": {
      "image/png": {
       "height": 285,
       "width": 412
      },
      "needs_background": "light"
     },
     "output_type": "display_data"
    }
   ],
   "source": [
    "plt.plot(h,depletion(h,sigma,5))\n",
    "plt.xlabel(r\"distance h $[\\mu m]$\")\n",
    "plt.ylabel(\"energy per area $[k_B T]$\")\n",
    "plt.ylim(-5,5)\n",
    "plt.show()"
   ]
  },
  {
   "cell_type": "markdown",
   "id": "de26dbdb",
   "metadata": {},
   "source": [
    "\n",
    "## Depletion force between two spheres \n",
    "\n",
    "\n",
    "To describe the depletion interaction between two spheres (radius $R$) in a solution of smaller spheres (radius $σ/2$), we may use the same approach of assuming an isotropic osmotic pressure of the smaller spheres.\n",
    "The smaller spheres can actually not approach a spherical shell of thickness $σ/2$ around the larger spheres or a total volume of $4π(R+σ/2)^3/3$ . The pressure on the large spheres has no consequences except in the case where the two spheres approach closer than $r≤2(R+σ/2)=2R_d$. In this case the two excluded volumes around each sphere overlap to a lens-like volume. Due to this overall, the forces which create the pressure on the spherical surface up to an angle $θ_0$ are unbalanced from the other side of the surface (see image) and result in an attractive interaction.\n",
    "\n",
    "![depletion_spheres](img/depletion_spheres.png)\n",
    " \n",
    "The total force is then calculated from the osmotic pressure times the surface area of the spherical cap by just taking into account the force components along the connecting line. This the read\n",
    "\n",
    "\\begin{equation}\n",
    "F(r)=-2nk_{\\rm B}T\\pi (R+\\sigma/2)^2\\int\\limits_{0}^{\\theta_{0}}\\sin(\\theta)\\cos(\\theta)\\mathrm d\\theta\n",
    "\\end{equation}\n",
    "\n",
    "resulting in\n",
    "\n",
    "\\begin{equation}\n",
    "F(r)=-nk_{\\rm B}T\\pi (R_{d})^2\\left [ 1+\\left ( \\frac{r}{2R_{d}}\\right )^2\\right ]\n",
    "\\end{equation}\n",
    "\n",
    "which is valid if the distance between the centers of the large spheres is $r<2(R+σ/2)$. For $r≥2(R+σ/2)$ there is no depletion of the smaller spheres from the region between the larger spheres and the force is zero, i.e., $F(r)=0$.\n"
   ]
  },
  {
   "cell_type": "markdown",
   "id": "15754a12",
   "metadata": {},
   "source": [
    "**General description** – A more general description of the depletion interaction may be obtained based on our introduction into statistical physics at the beginning of the course. There we stated that the probability of finding a system in a stet of energy $E$ is\n",
    "\n",
    "\\begin{equation}\n",
    "p(E)=\\frac{e^{-\\beta E}}{Z},\n",
    "\\end{equation}\n",
    "\n",
    "where $\\beta=1/k_{\\rm B}T$ and the partition function $Z$ is\n",
    "\n",
    "\\begin{equation}\n",
    "Z=\\sum_{i}e^{-\\beta E_{i}}\n",
    "\\end{equation}\n",
    "\n",
    "for a system with a discrete number of states numbered by the indexi.For a single particle with a continuous number of energies the energy may look like\n",
    "\n",
    "\\begin{equation}\n",
    "E=\\frac{p^2}{2m}+U(q),\n",
    "\\end{equation}\n",
    "\n",
    "where $q$ is some general coordinate. The classical partition function for a system of N particles is then\n",
    "\n",
    "\\begin{equation}\n",
    "Z=\\frac{1}{N!h^{3N}}\\int \\mathrm d^{3}p^{N}\\int \\mathrm d^{3}q^{N}\\exp\\left ( -\\beta \\left [ \\sum_{i}\\frac{p^2}{2m}+U(q^N)\\right ]\\right ),\n",
    "\\end{equation}\n",
    "\n",
    "where we use the notation $p^N$ and $q^N$ to denote the whole set of variables. The prefactor is appropriate for indistinguishable particles and the phase space normalization factor $h$ (Planck’s constant) for every pair of $p$ and $q$. Since there is no issue of the non-commutation of positions and momenta we can perform the momentum integrals exactly, yielding\n",
    "\n",
    "\\begin{equation}\n",
    "Z=\\frac{1}{N!}\\frac{1}{\\Lambda^{3N}}\\int \\mathrm d^{3}q^{N}\\exp(-\\beta U(q^{N})),\n",
    "\\end{equation}\n",
    "\n",
    "where the thermal de Broglie wavelength $Λ$ is\n",
    "\n",
    "\\begin{equation}\n",
    "\\Lambda=\\frac{h}{\\sqrt{2 \\pi m k_{\\rm B}T}}.\n",
    "\\end{equation}\n",
    "\n",
    "In the case of two interacting large spheres in a solution of small spheres with all spheres being hard spheres, the integration over the exponential function yields\n",
    "\n",
    "\\begin{equation}\n",
    "Z=\\frac{V_{A}^{N}}{N! \\Lambda^{3N}}\n",
    "\\end{equation}\n",
    "\n",
    "with $V_A$ being the volume available to the small spheres, i.e., $V_A=V-V_{E}^{'} $ for $r<D+d$ and $V_A=V-V_E$ for $r>D+d$ with $V_E=π(D+d)^3/3$ and $V_{E}^{'}=V_E-(2πl^2)/3 [3(D+d)/2-l]$ and $l=(D+d)/2-r/2$.\n",
    "The calculation then yields the free energy\n",
    "\n",
    "\\begin{equation}\n",
    "G=-k_{\\rm B}T\\ln(Z) =-k_{\\rm B}T\\ln\\left (\\frac{V_{A}^N}{N!\\Lambda^{3N}}\\right).\n",
    "\\end{equation}\n",
    "\n",
    "Using Stirling’s formula again this can be turned into\n",
    "\n",
    "\\begin{equation}\n",
    "G=G_{\\rm ideal}-Nk_{\\rm B}\\ln\\left (\\frac{V_{A}}{V}\\right).\n",
    "\\end{equation}\n",
    "\n",
    "The ideal contribution to the free energy is constant with the separation of the large sphere, so it does not contribute to the depletion force. It reads\n",
    "\n",
    "\\begin{equation}\n",
    "G_{\\rm ideal}=-Nk_{\\rm B}T\\left (1-\\ln\\left (\\frac{N\\Lambda^3}{V}\\right)\\right).\n",
    "\\end{equation}\n",
    "\n",
    "The distance-dependent part still contains the logarithm which we can approximate by\n",
    "\n",
    "\\begin{equation}\n",
    "\\ln\\left (\\frac{V_{A}}{V}\\right)\\approx -\\frac{V_{E}}{V}+\\frac{\\pi}{6V}(D+d-r)^2(D+d+r/2)\n",
    "\\end{equation}\n",
    "\n",
    "for the case of the overlapping excluded volumes. This gives then finally a force\n",
    "\n",
    "\\begin{equation}\n",
    "F=-\\frac{N}{4V}k_{\\rm B}T\\pi(D+d-r)(D+d+r)\n",
    "\\end{equation}\n",
    "\n",
    "for $r<d+D$. For all other distances of the two centers of the spheres, the depletion force is zero."
   ]
  }
 ],
 "metadata": {
  "kernelspec": {
   "display_name": "Python 3 (ipykernel)",
   "language": "python",
   "name": "python3"
  },
  "language_info": {
   "codemirror_mode": {
    "name": "ipython",
    "version": 3
   },
   "file_extension": ".py",
   "mimetype": "text/x-python",
   "name": "python",
   "nbconvert_exporter": "python",
   "pygments_lexer": "ipython3",
   "version": "3.8.5"
  },
  "toc": {
   "base_numbering": 1,
   "nav_menu": {},
   "number_sections": true,
   "sideBar": true,
   "skip_h1_title": false,
   "title_cell": "Table of Contents",
   "title_sidebar": "Contents",
   "toc_cell": false,
   "toc_position": {},
   "toc_section_display": true,
   "toc_window_display": false
  },
  "widgets": {
   "application/vnd.jupyter.widget-state+json": {
    "state": {},
    "version_major": 2,
    "version_minor": 0
   }
  }
 },
 "nbformat": 4,
 "nbformat_minor": 5
}
