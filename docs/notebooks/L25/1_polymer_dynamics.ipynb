{
 "cells": [
  {
   "cell_type": "markdown",
   "id": "4e50a714-fcc5-4a2d-8a77-53490f135529",
   "metadata": {},
   "source": [
    "# Dynamics of Polymers"
   ]
  },
  {
   "cell_type": "code",
   "execution_count": 1,
   "id": "f033e8fe-73b2-4ce7-bea3-1db9d3bc5a06",
   "metadata": {
    "execution": {
     "iopub.execute_input": "2022-01-28T14:03:35.185590Z",
     "iopub.status.busy": "2022-01-28T14:03:35.185224Z",
     "iopub.status.idle": "2022-01-28T14:03:35.370052Z",
     "shell.execute_reply": "2022-01-28T14:03:35.369734Z"
    }
   },
   "outputs": [],
   "source": [
    "import numpy as np\n",
    "import matplotlib.pyplot as plt\n",
    "from numpy.linalg import norm\n",
    "from scipy.constants import c,epsilon_0,e,physical_constants\n",
    "import json\n",
    "\n",
    "%config InlineBackend.figure_format = 'retina' \n",
    "\n",
    "with open('style.json', 'r') as fp:\n",
    "    style = json.load(fp)\n",
    "    \n",
    "plt.rcParams.update(style) "
   ]
  },
  {
   "cell_type": "markdown",
   "id": "298b5163-fc0c-4691-b040-4f247e5b46ef",
   "metadata": {},
   "source": [
    "After we have introduced a phenomenological model for the viscoelasticity of materials, we would like to connect this to the dynamics of polymers. This means, we have to connect the reponse of polmyer to deformations to the polymer chain in a way."
   ]
  },
  {
   "cell_type": "markdown",
   "id": "4456fe02-0aa4-49e6-bd4b-46e6345520b2",
   "metadata": {},
   "source": [
    "## Diffusion of a single polymer chain"
   ]
  },
  {
   "cell_type": "markdown",
   "id": "37290ed0-45e7-4187-9e05-1d374823a318",
   "metadata": {},
   "source": [
    "A first clue on the dynamics is already given by a process of the diffusion of the polymer chain. During diffusion, all segements fluctuate with the position and experience hdrodynamic friction. If the molecule would be a rigid sphere of radius $R$, the diffusion coefficient would be given by the Stokes-Einstein relation\n",
    "\n",
    "$$\n",
    "D=\\frac{k_{B}T}{\\gamma}=\\frac{k_B T}{6\\pi\\eta R}\n",
    "$$\n",
    "\n",
    "Using the mean squared displacement $\\langle r^{2}\\rangle=6Dt$, this also means that the particle will diffusion a distance corresponding to its own size in a time \n",
    "\n",
    "$$\n",
    "\\tau=\\frac{R^2}{D}=\\frac{R^2}{k_B T}\\gamma\n",
    "$$\n",
    "\n",
    "For a polymer, which is now a flexible entity, this time means that all conformational fluctuations have relaxed at this time and the polymer chain is displaced by its own radius. This therefore sets the longest timescale of relaxation. This relaxation timescale can now be obtained with different dynamic approaches, which are the **Rouse model** and the **Zimm model**. Both models differ mainly in how the hydrodynamic coupling of individual segements are considered. "
   ]
  },
  {
   "cell_type": "markdown",
   "id": "a70a9357-c3f6-4cb6-9dca-bb63d5078f73",
   "metadata": {},
   "source": [
    "### Rouse model"
   ]
  },
  {
   "cell_type": "markdown",
   "id": "d1986dbd-92f7-4a56-b7ab-de3bb50ffc6e",
   "metadata": {},
   "source": [
    "In the Rouse model, the polymer is approximated by a bead spring model of $N$ segments\n",
    "\n",
    "$$\n",
    "\\gamma\\frac{d\\vec{R}_n}{dt}=k\\left [ \\vec{R}_{n-1} - \\vec{R}_{n} + \\vec{R}_{n+1} - \\vec{R}_{n}\\right ] +\\vec{f}_n(t)\n",
    "$$\n",
    "\n",
    "where the force on the segment $n$ at a position $R_n$ is given by the forces exerced from the neighboring elements with a spring constant $k=3k_B T/b^2$ and the thermal noise force $\\vec{f}_n(t)$.\n",
    "\n",
    "Each of the segments is experiencing a friction given by the factor $\\gamma$. The total friction on the Rouse chain is now assumed to be\n",
    "\n",
    "$$\n",
    "\\gamma_R=N\\gamma\n",
    "$$\n",
    "\n",
    "which needs some short explanation, as this is one key assumption of the Rouse model. Imagine you have 5 different rigid spheres each experiencing the same friction coefficient and they are far apart from each other, the total friction coefficient will be $5\\gamma$. Yet if the spheres come closer to each other, the hydrodynamic flow fields around each sphere influence each other until the point when they are in close contact and act as a new body again. In this case, the friction coefficient will not be just the sum of all friction coefficients. This means the assumption of the Rouse model is now that the indivudal bead cause only localized flow fields when fluctuating, which are in turn not influencing the motion of the other segements.\n",
    "\n",
    "According to that, we may write down the time to diffuse the size $R$ of the polymer as\n",
    "\n",
    "$$\n",
    "\\tau_R=\\frac{R^2}{k_B T}N \\gamma \\tag{Rouse time}\n",
    "$$\n",
    "\n",
    "which is the Rouse time. At times shorter than the Rouse time, the polymer molecule exhibits viscoelastic relaxation modes. The longest reslaxation mode is that of the whole chain, which is the Rouse time $\\tau_R$.\n",
    "As the size of the polymer chain is approximately given by $R\\approx bN^{\\nu}$ with $\\nu$ beeing the fractal dimension (e.g. the Flory exponent) of the chain we obtain for the Rouse time\n",
    "\n",
    "$$\n",
    "\\tau_{R}=N \\frac{\\gamma}{\\underbrace{k_{B} T}_{\\tau_{0}}} b^{2} N^{2 \\nu}=\\tau_{0} N^{2 \\nu+1}\n",
    "$$\n",
    "\n",
    "where $\\tau_0$ is the relaxation time for a single segment in the chain. Depending if we now consider an ideal or a real chain, we find different scaling of the Rouse time with the number of segments, i.e. \n",
    "\n",
    "$$\n",
    "\\tau_{R} \\propto\\left\\{\\begin{array}{l}\n",
    "\\tau_{0} N^{2}  \\quad \\text { for ideal chain }(\\nu=1 / 2) \\\\\n",
    "\\tau_{0} N^{11 / 5} \\quad \\text { for real chain in good solvent }(\\nu \\approx 3 / 5)\n",
    "\\end{array}\\right.\n",
    "$$\n",
    "\n",
    "which is just a simple estimate.\n",
    "\n",
    "The full calculation by Rouse for an ideal chain shows a similar result, which is\n",
    "\n",
    "$$\n",
    "\\tau_{R}=\\frac{1}{6 \\pi^{2}} \\frac{\\gamma b^{2}}{k_{B} T} N^{2}.\n",
    "$$\n",
    "\n",
    "To summarize, on time scales smaller than $\\tau_R$, we expect to find **viscoelastic modes** of the polymer contributing to the modulus, while for modes larger than $\\tau_R$ everythong should be **diffusive**."
   ]
  },
  {
   "cell_type": "markdown",
   "id": "de6140bb-b7c6-454c-8067-f8eadbb4b819",
   "metadata": {},
   "source": [
    "### Zimm model"
   ]
  },
  {
   "cell_type": "markdown",
   "id": "7faa666a-0098-471a-8ad3-a3a91b84e4e1",
   "metadata": {
    "tags": []
   },
   "source": [
    "The Zimm model is now "
   ]
  },
  {
   "cell_type": "code",
   "execution_count": null,
   "id": "4f6ba890-3b73-4f6e-857f-18fc7940eae2",
   "metadata": {},
   "outputs": [],
   "source": []
  }
 ],
 "metadata": {
  "kernelspec": {
   "display_name": "Python 3 (ipykernel)",
   "language": "python",
   "name": "python3"
  },
  "language_info": {
   "codemirror_mode": {
    "name": "ipython",
    "version": 3
   },
   "file_extension": ".py",
   "mimetype": "text/x-python",
   "name": "python",
   "nbconvert_exporter": "python",
   "pygments_lexer": "ipython3",
   "version": "3.8.5"
  },
  "widgets": {
   "application/vnd.jupyter.widget-state+json": {
    "state": {},
    "version_major": 2,
    "version_minor": 0
   }
  }
 },
 "nbformat": 4,
 "nbformat_minor": 5
}
