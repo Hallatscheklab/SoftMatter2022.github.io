{
 "cells": [
  {
   "cell_type": "markdown",
   "metadata": {
    "colab_type": "text",
    "id": "view-in-github"
   },
   "source": [
    "<a href=\"https://colab.research.google.com/github/Hallatscheklab/SoftMatter22-23/blob/main/source/notebooks/L1/2_Intro_to_Stat_Phys_OH.ipynb\" target=\"_parent\"><img src=\"https://colab.research.google.com/assets/colab-badge.svg\" alt=\"Open In Colab\"/></a>"
   ]
  },
  {
   "cell_type": "markdown",
   "metadata": {
    "id": "Oa8wy2MzbAGP",
    "tags": []
   },
   "source": [
    "### Meaning of equilibrium\n",
    "\n",
    "Since the Boltzmann factor $\\exp(E_s/k_\\mathrm{B}T_b)$ strongly suppresses energies that are much larger than the thermal energy $k_\\mathrm{B}T_b$, one would think that system states with energies larger than $k_\\mathrm{B}T_b$ almost never occur. \n",
    "\n",
    "No! Even if any particular high energy state occurs with very low (exponentially small) probability, it can be that we typically observe one of them if there are sufficiently many of them. What matters is not only the Boltzmann factor but also how many states the *system* has with a given energy.  "
   ]
  },
  {
   "cell_type": "markdown",
   "metadata": {},
   "source": [
    "To mathematize this insight, we introduce the multiplicity $\\Omega_s(E_s)$ of the system at energy $E_s$. With that we can say that the probability to observe the system in a state with energy $E_s$ is given by how many states with that energy exist times the probablity to observe one of them, i.e.,\n",
    "$$\\boxed{P(E_s)\\propto \\Omega_s(E_s) \\exp(-\\beta_b E_s)}$$"
   ]
  },
  {
   "cell_type": "markdown",
   "metadata": {},
   "source": [
    "Usually there is a pronounced tradeoff between the two factors appearing in this equation. As the system energy increases, we gain a lot of new system states ($\\Omega_s$ rises exponentially or faster with $E_s$). But with increasing system energy, we also loose increasingly loose bath states, in fact at an exponential rate precisely given by the Boltzmann factor. The result is a pronounced peak of the product of both factors at a particular energy $U$. This typical situation is depicted below."
   ]
  },
  {
   "cell_type": "markdown",
   "metadata": {},
   "source": [
    "![equilibrium peak](img/equilibrium-peak.png)    "
   ]
  },
  {
   "cell_type": "markdown",
   "metadata": {},
   "source": [
    "In macroscopic systems, made up of O(Avogardo number) of particles, the peak becomes extremely sharp even in log space. In equilibrium, where our Basic Principle is satisfied, one therefore finds the system essentially deterministically at the energy $U$ corresponding to the peak. That energy is called *internal* energy and can be found by maximizing the product of $\\Omega_s$ and the Boltzmann factor:"
   ]
  },
  {
   "cell_type": "markdown",
   "metadata": {},
   "source": [
    "$$0=\\left.\\frac{\\partial\\ln P}{\\partial E_s}\\right|_U=\\left.\\frac{\\partial\\ln\\Omega_s}{\\partial E_s}\\right|_U-\\beta_b=0$$"
   ]
  },
  {
   "cell_type": "markdown",
   "metadata": {},
   "source": [
    "The internal energy can therefore be found graphically by following the trajectory of $\\ln \\Omega_s$, which is convex (bending upward), until its slope just equal $\\beta_b$. \n",
    "\n",
    "In complete analagy to our definition of the temperature of the bath, $\\beta_b\\equiv \\partial_E \\ln\\Omega_b$, we now introduce the temperature of the system via $\\beta_s\\equiv \\partial_E \\ln\\Omega_s$. The above equation says that, at the peak, both temperatures have to be the same,\n",
    "$$\\beta_s\\equiv \\left.\\frac{\\partial\\ln\\Omega_s}{\\partial E_s}\\right|_U=\\beta_b $$\n"
   ]
  },
  {
   "cell_type": "markdown",
   "metadata": {},
   "source": [
    "To make sure that the peak is actually a peak, we have to demand that the second derivative of $\\ln P$ is negative or, equivalently, that $\\partial_E^2\\ln \\Omega_s<0$. This condition is automatically met if $\\ln \\Omega_s$ is a *concave* function, as sketched in the figure above."
   ]
  },
  {
   "cell_type": "markdown",
   "metadata": {},
   "source": [
    "To summarize: At equilibrium, large systems coupled to a bath are almost deterministically found at a particular energy, the internal energy, where the temperature of bath and system are equal.\n",
    "\n",
    "If a large system is intially out of equilibrium, say it has a larger or smaller energy than $U$, it will gradually move towards the internal energy as a result of its internal dynamics towards higher probability (towards the peak). This is indicated by the blue arrow in my sketch above, indicating that *spontaneous* reactions always proceed towards the peak. Any reaction going away from the peak, towards lower probability, requires some kind of work and would not happen by itself (more precisely, would occur only with very low probability)."
   ]
  },
  {
   "cell_type": "markdown",
   "metadata": {},
   "source": [
    "#### Partition function"
   ]
  },
  {
   "cell_type": "markdown",
   "metadata": {},
   "source": [
    "To fully determine the probability $P(E_s)$ to observe our system at a given energy $E_s$, \n",
    "$$P(E_s)=\\frac{\\Omega_s(E_s)\\exp(-\\beta_b E_s)}{Z} $$\n",
    "we still need to evaluate a normalization constant $Z$,\n",
    "$$Z\\equiv \\int dE_s \\Omega_s(E_s)\\exp(-\\beta_b E_s)$$.\n",
    "\n",
    "In large systems, the integral is dominated by the value of the integrand at the peak energy $U$,\n",
    "$$Z\\approx \\Omega_s(U) \\exp(\\beta_bU)$$"
   ]
  },
  {
   "cell_type": "markdown",
   "metadata": {},
   "source": [
    "We define the free energy $A$ as \n",
    "$$A\\equiv -k_\\mathrm{B}\\ln Z=-k_\\mathrm{B}\\ln \\Omega_s(U)+U=U-TS_s$$"
   ]
  },
  {
   "cell_type": "markdown",
   "metadata": {},
   "source": [
    "In the next section, we will see that the free energy attains a minmum at equilbrium. The above expression shows that $A$ can be lowered either by lowering the energy or by increasing the entropy. **The tradeoff between lowering energy (more states for the environment) and increasing entropy (more states for the system) is a recurrent theme in statistical physics.**"
   ]
  },
  {
   "cell_type": "code",
   "execution_count": null,
   "metadata": {},
   "outputs": [],
   "source": []
  }
 ],
 "metadata": {
  "colab": {
   "include_colab_link": true,
   "provenance": []
  },
  "kernelspec": {
   "display_name": "Python 3 (ipykernel)",
   "language": "python",
   "name": "python3"
  },
  "language_info": {
   "codemirror_mode": {
    "name": "ipython",
    "version": 3
   },
   "file_extension": ".py",
   "mimetype": "text/x-python",
   "name": "python",
   "nbconvert_exporter": "python",
   "pygments_lexer": "ipython3",
   "version": "3.9.12"
  }
 },
 "nbformat": 4,
 "nbformat_minor": 4
}
