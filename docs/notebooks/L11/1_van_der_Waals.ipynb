{
 "cells": [
  {
   "cell_type": "markdown",
   "id": "5dee777e-782b-496e-b638-12c87aaeeb0d",
   "metadata": {},
   "source": [
    "# van der Waals Interaction"
   ]
  },
  {
   "cell_type": "markdown",
   "id": "adb1b2aa-2d91-47c9-b139-ad0c678be087",
   "metadata": {},
   "source": [
    "## Interaction Between Macroscopic Bodies"
   ]
  },
  {
   "cell_type": "markdown",
   "id": "0b8ed02a-f017-4dbd-b5e7-29c9391f4d30",
   "metadata": {},
   "source": [
    "## Lifshitz Theory"
   ]
  }
 ],
 "metadata": {
  "kernelspec": {
   "display_name": "Python 3 (ipykernel)",
   "language": "python",
   "name": "python3"
  },
  "language_info": {
   "codemirror_mode": {
    "name": "ipython",
    "version": 3
   },
   "file_extension": ".py",
   "mimetype": "text/x-python",
   "name": "python",
   "nbconvert_exporter": "python",
   "pygments_lexer": "ipython3",
   "version": "3.8.5"
  },
  "widgets": {
   "application/vnd.jupyter.widget-state+json": {
    "state": {},
    "version_major": 2,
    "version_minor": 0
   }
  }
 },
 "nbformat": 4,
 "nbformat_minor": 5
}
