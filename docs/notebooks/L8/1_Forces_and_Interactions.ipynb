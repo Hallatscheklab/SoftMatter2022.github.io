{
 "cells": [
  {
   "cell_type": "markdown",
   "id": "a6f4cf2b",
   "metadata": {},
   "source": [
    "### Dipole-Dipole Interactions"
   ]
  },
  {
   "cell_type": "markdown",
   "id": "dba1c43a",
   "metadata": {},
   "source": [
    "The interaction of two dipole will depend on three angles, the two angles of the dipoles with the connecting axis $\\theta_1, \\theta_2$ and the angle $\\phi$ between the two planes which contain the individual dipoles and the axis. The figure below shows the corresponding geometry. "
   ]
  },
  {
   "cell_type": "markdown",
   "id": "1c52d972",
   "metadata": {},
   "source": [
    "![Dipole](img/dipole_dipole.png)"
   ]
  },
  {
   "cell_type": "markdown",
   "id": "86f1d8da",
   "metadata": {},
   "source": [
    "The energy of the two dipoles at a distance $r$ follows then wihtout a detailed calculation with\n",
    "\n",
    "\\begin{equation}\n",
    "w(r,\\theta_2,\\theta_2,\\phi)=-\\frac{u_1 u_2}{4\\pi \\epsilon_0 \\epsilon r^3}\\left [ 2\\cos(\\theta_1) \\cos(\\theta_2)-\\sin(\\theta_1)\\sin(\\theta_2)\\cos(\\phi)\\right ]\n",
    "\\end{equation}\n",
    "\n",
    "The image below  (taken from the book by Israelachvili) shows the dipole dipole interaction energy for the **parallel** and the **in-line** configuration as indicated. As shown, the in-line configutation with facing opposite charges is more favorable."
   ]
  },
  {
   "cell_type": "markdown",
   "id": "19c2b251",
   "metadata": {},
   "source": [
    "![Dipole Energy](img/dipole_energy.png)"
   ]
  },
  {
   "cell_type": "markdown",
   "id": "39a287b3",
   "metadata": {},
   "source": [
    "The energies that are typically found are also larger than the thermal energy at room temperature and thefore lead to ordering effects. "
   ]
  },
  {
   "cell_type": "markdown",
   "id": "7de0bdde",
   "metadata": {},
   "source": [
    "### Rotating Dipoles, angle averaged Potential\n"
   ]
  },
  {
   "cell_type": "markdown",
   "id": "9b7d0eab",
   "metadata": {},
   "source": [
    "The equations we derived so far deliver the energy for a specific fixed orientation of dipoles for example. However, molecules with dipoles may rotate and undergo rotational Brownian motion driven by thermal energy. This rotational diffusion can be very fast and the rotational sampling creates an average interaction that may scale differently with the distance. To get an effective distance dependence in the interaction, we have to integrate the Boltzmann factor over the orientational degrees of freedoms, i.e."
   ]
  },
  {
   "cell_type": "markdown",
   "id": "58af5b8d",
   "metadata": {},
   "source": [
    "\\begin{equation}\n",
    "\\exp\\left ( \\frac{w(r)}{k_B T} \\right)=\\frac{\\int \\exp\\left (-\\frac{w(r,\\Omega)}{k_B T} d\\Omega\\right )}{\\int d\\Omega}=\\left \\langle  \\exp\\left (-\\frac{w(r,\\Omega)}{k_B T} d\\Omega\\right ) \\right \\rangle\n",
    "\\end{equation}"
   ]
  },
  {
   "cell_type": "markdown",
   "id": "501f81c9",
   "metadata": {},
   "source": [
    "with \n",
    "\n",
    "$$d\\Omega =\\sin(\\theta)d\\theta d\\phi$$\n",
    "\n",
    "and\n",
    "\n",
    "$$\\int d\\Omega=4\\pi$$"
   ]
  },
  {
   "cell_type": "markdown",
   "id": "2938ac75",
   "metadata": {},
   "source": []
  }
 ],
 "metadata": {
  "kernelspec": {
   "display_name": "Python 3 (ipykernel)",
   "language": "python",
   "name": "python3"
  },
  "language_info": {
   "codemirror_mode": {
    "name": "ipython",
    "version": 3
   },
   "file_extension": ".py",
   "mimetype": "text/x-python",
   "name": "python",
   "nbconvert_exporter": "python",
   "pygments_lexer": "ipython3",
   "version": "3.8.5"
  },
  "toc": {
   "base_numbering": 1,
   "nav_menu": {},
   "number_sections": true,
   "sideBar": true,
   "skip_h1_title": false,
   "title_cell": "Table of Contents",
   "title_sidebar": "Contents",
   "toc_cell": false,
   "toc_position": {},
   "toc_section_display": true,
   "toc_window_display": false
  },
  "widgets": {
   "application/vnd.jupyter.widget-state+json": {
    "state": {},
    "version_major": 2,
    "version_minor": 0
   }
  }
 },
 "nbformat": 4,
 "nbformat_minor": 5
}
