{
 "cells": [
  {
   "cell_type": "markdown",
   "metadata": {
    "colab_type": "text",
    "id": "view-in-github"
   },
   "source": [
    "<a href=\"https://colab.research.google.com/github/Hallatscheklab/SoftMatter22-23/blob/main/source/notebooks/L1/2_Intro_to_Stat_Phys_OH.ipynb\" target=\"_parent\"><img src=\"https://colab.research.google.com/assets/colab-badge.svg\" alt=\"Open In Colab\"/></a>"
   ]
  },
  {
   "cell_type": "markdown",
   "metadata": {
    "id": "F3W6cUBQ0S-E"
   },
   "source": [
    "# Whirlwind recap of (equilibrium) statistical physics\n",
    "\n"
   ]
  },
  {
   "cell_type": "markdown",
   "metadata": {
    "id": "Yw2MINxWIF3f"
   },
   "source": [
    "**Why do we need statistical physics?**\n",
    "* A typical property of soft matter systems is the importance of thermal fluctuations for structure and dynamics. “Soft” means often that the relevant energy scales are in order or smaller than $k_B T$.\n",
    "* Rather than adopting well defined internal energy minima, the equilibrium states comprise a multitude of microstates, where fluctuations cause deviations from the internal energy minima.\n",
    "* The description of this thermal equilibrium is the focus of equilibrium statistical physics, which we review in the first 2-3 lectures\n",
    "* Note that living systems consume energy to stay away from thermal equilibrium. drive irreversible processes. It is active topic research how to extend statistical physics to describe systems far from equilibrium."
   ]
  },
  {
   "cell_type": "markdown",
   "metadata": {
    "id": "DGMU9AklLj-G"
   },
   "source": [
    "### Closed systems -- microcanonical ensemble"
   ]
  },
  {
   "cell_type": "markdown",
   "metadata": {
    "id": "HMKnKeDn2EVq"
   },
   "source": [
    "\n",
    "**Basic principle of statistical mechanics:** In an *isolated* system, all *allowed* *microstates* are equally likely.\n"
   ]
  },
  {
   "cell_type": "markdown",
   "metadata": {
    "id": "P40p-MSr3O4s"
   },
   "source": [
    "* An \"isolated\" system does not transfer energy, matter, volume or other conserved quantities outside its boundaries. A \"closed\" system can exchange energy, but not matter. \"Open\" systems typically exchange energy, matter and volume. Example: Biological systems (cells, organisms).\n",
    "* In classical physics (=all we care about in this course), a \"microstate\" is a specific microscopic configuration of all particles of the system.\n",
    "* All \"allowed\" microstates have the same energy, volume and number (and type) of particles.\n"
   ]
  },
  {
   "cell_type": "markdown",
   "metadata": {
    "id": "iLSWV3dYcbnF"
   },
   "source": [
    "<img src=\"https://github.com/Hallatscheklab/SoftMatter22-23/blob/main/source/notebooks/L1/img/trail-of-bright-light-in-box-460688633-5966b3605f9b5816183316bb.webp?raw=1\" alt=\"systems\" name=\"systems\" class=\"bg-primary mb-1\" width=\"500px\">"
   ]
  },
  {
   "cell_type": "markdown",
   "metadata": {
    "id": "8dl5NfUI57_K"
   },
   "source": [
    "Let's define $\\Omega(E,V,N)$ to be the total number of microstates {$\\nu$} with $E_\\nu=E$, $V_\\nu=V$ and $N_\\nu=N$.\n",
    "\n",
    "Then, based on our \"Basic Principle\", we can say that the probability of observing microstate $\\nu$ is given by $P(\\nu)=\\Omega(E,V,N)^{-1}$.\n",
    "\n",
    "N.B.: One could imagine measuring $P(\\nu)$ in two ways: 1. Follow a given system for a very long time and determine the fraction of the total time the system is in microstate $\\nu$. 2. Consider a very large ensemble of identical systems and determine the fraction of replicates that are in state $\\nu$. We will usually assume that both types of measurements give the same results in the thermodynamic limit (long times and large ensembles). This is called the *ergodicity* assumption. The breaking of ergodicity is topic of active research. Ergodicity is broken in certain models of glasses it is broken, reflecting the long relaxation times in these systems."
   ]
  },
  {
   "cell_type": "markdown",
   "metadata": {
    "id": "Oa8wy2MzbAGP"
   },
   "source": [
    "### Energy exchange -- canonical ensemble\n",
    "\n",
    "Most soft matter systems are closed but not isolated - they trade energy and volume with the environment (a.k.a. *bath*, *sorroundings*). What can we say about $P(\\nu_S)$ in those cases?"
   ]
  },
  {
   "cell_type": "markdown",
   "metadata": {
    "id": "CwOgjx6gcIou"
   },
   "source": [
    "System (S) + Bath (B) = Composite system with fixed E, V, N.\n",
    "\n",
    "* All states with $E_S+E_B=E$ are equally likely.\n",
    "* To reach a high energy state, S has to \"steal\" energy from B."
   ]
  },
  {
   "cell_type": "markdown",
   "metadata": {
    "id": "maSb338UcsNd"
   },
   "source": [
    "What's the probability $P(\\nu_S)$ of system state $\\nu_S$ irrespective of the state of the bath? "
   ]
  },
  {
   "cell_type": "markdown",
   "metadata": {
    "id": "JNx94hvGc4df"
   },
   "source": [
    "$$P(\\nu_S)=\\sum_{\\nu_B} P(\\nu_S,\\nu_B)=\\frac{\\Omega_b(E-E_S)}{\\Omega(E,V,N)}$$"
   ]
  },
  {
   "cell_type": "markdown",
   "metadata": {
    "id": "vuPxuGb_ezxc"
   },
   "source": [
    "$$\\boxed{\\rightarrow P(\\nu_S)\\propto \\Omega_b(E-E_S)}$$\n",
    "**The multiplicity of the bath controls the state of the system.**\n"
   ]
  },
  {
   "cell_type": "markdown",
   "metadata": {
    "id": "oCe_sGpfhKHx"
   },
   "source": [
    "Or, using the **Boltzmann entropy** $$ S\\equiv k_B \\ln \\Omega,$$\n",
    "we can write $$P(\\nu_S)\\propto e^{k_B^{-1}S_B(E-E_S)}.$$"
   ]
  },
  {
   "cell_type": "markdown",
   "metadata": {
    "id": "5Djwy4nzh5YD"
   },
   "source": [
    "When the bath is very big (thermodynamic limit), we can Taylor expand the exponent,\n",
    "$$ S_B(E-E_S)=S_B(E)+\\left(\\frac{\\partial S}{\\partial E}\\right)_{V,N}(-E_S)+\\cdots $$"
   ]
  },
  {
   "cell_type": "markdown",
   "metadata": {
    "id": "XNZSNO8MmKnJ"
   },
   "source": [
    "Inserting above yields $$\\boxed{P(\\nu_S)\\propto \\exp\\left[\\text{const.}-k_B^{-1}\\left(\\frac{\\partial S_B}{\\partial E}\\right)_{V, N}\\right]\\propto e^{-b E_S}} .$$"
   ]
  },
  {
   "cell_type": "markdown",
   "metadata": {
    "id": "d7P92EfznDKX"
   },
   "source": [
    "The factor $e^{-b E_S}$ is the **Boltzmann factor**, if we identify $b$ and $\\beta_B\\equiv (k_B T)^{-1}$. \n",
    "\n",
    "Thus, $$\\beta_B\\equiv \\left(\\frac{\\partial \\ln \\Omega_B}{\\partial E}\\right)_{V, N}=\\frac 1k_B \\left(\\frac{\\partial S_B}{\\partial E}\\right)_{V, N}.$$\n",
    "\n",
    "Equivalently, $$\\boxed{T_B\\equiv \\left(\\frac{\\partial S_B}{\\partial E}\\right)_{V, N}^{-1}}$$ is the **thermodynamic definition** of the temperature of the bath."
   ]
  },
  {
   "cell_type": "markdown",
   "metadata": {
    "id": "b-3pU6kUSqqw"
   },
   "source": [
    "**Implication: The likelihood ratio of two microstates is given by the ratio of their Boltzmann factors**\n",
    "$$\\frac{P(\\nu_s^{(1)})}{P(\\nu_s^{(2)})}=e^{-\\frac{E_S^{(2)}-E_S^{(1)}}{k_B T_b}}=e^{-\\frac{\\Delta E}{k_B T_b}}$$\n",
    "\n",
    "Exercise: Compare $k_B T$ with characteristic energy scales. \n",
    "* E.g. potential energy differences due to gravity, $\\Delta E = m g h$, imply\n",
    "  $$\\frac{P(\\nu_s^{(1)})}{P(\\nu_s^{(2)})}=e^{-\\frac{h}{\\lambda}}, \\qquad \\text{in terms of the \"scale height\"} \\lambda\\equiv \\frac{k_B T}{m g}\\approx 8 \\text{km}.$$\n",
    "\n",
    "* Bending of biopolymers\n",
    "\n",
    "* Electrostatic repulsion, $\\Delta E = \\frac{q^2}{4\\pi\\epsilon_0 \\ell_B}$\n"
   ]
  }
 ],
 "metadata": {
  "colab": {
   "include_colab_link": true,
   "provenance": []
  },
  "kernelspec": {
   "display_name": "Python 3 (ipykernel)",
   "language": "python",
   "name": "python3"
  },
  "language_info": {
   "codemirror_mode": {
    "name": "ipython",
    "version": 3
   },
   "file_extension": ".py",
   "mimetype": "text/x-python",
   "name": "python",
   "nbconvert_exporter": "python",
   "pygments_lexer": "ipython3",
   "version": "3.8.5"
  }
 },
 "nbformat": 4,
 "nbformat_minor": 0
}
