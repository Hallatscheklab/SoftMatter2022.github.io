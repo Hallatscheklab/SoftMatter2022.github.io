{
  "cells": [
    {
      "cell_type": "markdown",
      "metadata": {
        "id": "J7skWC4AEMmX"
      },
      "source": [
        "# Introduction to Soft Matter Physics, WS 2022/23\n",
        "\n",
        "\n"
      ]
    },
    {
      "cell_type": "markdown",
      "metadata": {
        "id": "NNecBnEjEMmZ"
      },
      "source": [
        "<img src=\"https://github.com/Hallatscheklab/SoftMatter22-23/blob/main/build/doctrees/nbsphinx/notebooks/L1/img/intro.png?raw=1\" alt=\"intro\" name=\"intro\" class=\"bg-primary mb-1\" width=\"800px\">"
      ]
    },
    {
      "cell_type": "markdown",
      "metadata": {
        "id": "ikbkD7tUEMmZ"
      },
      "source": [
        "[Lecture Slides](https://home.uni-leipzig.de/~physik/sites/mona/teaching/periodic-lectures/soft-matter-physics-ws-2021-22/)"
      ]
    }
  ],
  "metadata": {
    "kernelspec": {
      "display_name": "Python 3 (ipykernel)",
      "language": "python",
      "name": "python3"
    },
    "language_info": {
      "codemirror_mode": {
        "name": "ipython",
        "version": 3
      },
      "file_extension": ".py",
      "mimetype": "text/x-python",
      "name": "python",
      "nbconvert_exporter": "python",
      "pygments_lexer": "ipython3",
      "version": "3.8.5"
    },
    "colab": {
      "provenance": []
    }
  },
  "nbformat": 4,
  "nbformat_minor": 0
}