{
 "cells": [
  {
   "cell_type": "markdown",
   "id": "7daaa94f",
   "metadata": {},
   "source": [
    "# Electro-osmosis"
   ]
  },
  {
   "cell_type": "code",
   "execution_count": 1,
   "id": "cf8d40cf-5a5c-419b-9b9a-365852946251",
   "metadata": {
    "execution": {
     "iopub.execute_input": "2022-01-30T10:30:12.843925Z",
     "iopub.status.busy": "2022-01-30T10:30:12.843564Z",
     "iopub.status.idle": "2022-01-30T10:30:13.017719Z",
     "shell.execute_reply": "2022-01-30T10:30:13.017371Z"
    }
   },
   "outputs": [],
   "source": [
    "import numpy as np\n",
    "import matplotlib.pyplot as plt\n",
    "from numpy.linalg import norm\n",
    "from scipy.constants import c,epsilon_0,e,physical_constants\n",
    "import json\n",
    "\n",
    "%config InlineBackend.figure_format = 'retina' \n",
    "\n",
    "with open('style.json', 'r') as fp:\n",
    "    style = json.load(fp)\n",
    "    \n",
    "plt.rcParams.update(style) "
   ]
  },
  {
   "cell_type": "code",
   "execution_count": null,
   "id": "fb4c1acb-887e-4839-be59-3d46302d9f63",
   "metadata": {},
   "outputs": [],
   "source": []
  }
 ],
 "metadata": {
  "kernelspec": {
   "display_name": "Python 3 (ipykernel)",
   "language": "python",
   "name": "python3"
  },
  "language_info": {
   "codemirror_mode": {
    "name": "ipython",
    "version": 3
   },
   "file_extension": ".py",
   "mimetype": "text/x-python",
   "name": "python",
   "nbconvert_exporter": "python",
   "pygments_lexer": "ipython3",
   "version": "3.8.5"
  },
  "toc": {
   "base_numbering": 1,
   "nav_menu": {},
   "number_sections": true,
   "sideBar": true,
   "skip_h1_title": false,
   "title_cell": "Table of Contents",
   "title_sidebar": "Contents",
   "toc_cell": false,
   "toc_position": {},
   "toc_section_display": true,
   "toc_window_display": false
  },
  "widgets": {
   "application/vnd.jupyter.widget-state+json": {
    "state": {},
    "version_major": 2,
    "version_minor": 0
   }
  }
 },
 "nbformat": 4,
 "nbformat_minor": 5
}
