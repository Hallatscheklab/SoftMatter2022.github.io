{
 "cells": [
  {
   "cell_type": "markdown",
   "id": "4fbe7ac9",
   "metadata": {},
   "source": [
    "# Dynamics of Polymers"
   ]
  },
  {
   "cell_type": "code",
   "execution_count": 15,
   "id": "22d72d81",
   "metadata": {
    "nbsphinx": "hidden"
   },
   "outputs": [],
   "source": [
    "import numpy as np\n",
    "import matplotlib.pyplot as plt\n",
    "from numpy.linalg import norm\n",
    "from scipy.constants import c,epsilon_0,e,physical_constants\n",
    "import json\n",
    "\n",
    "%config InlineBackend.figure_format = 'retina' \n",
    "\n",
    "with open('style.json', 'r') as fp:\n",
    "    style = json.load(fp)\n",
    "    \n",
    "plt.rcParams.update(style) "
   ]
  },
  {
   "cell_type": "markdown",
   "id": "5b957454",
   "metadata": {},
   "source": [
    "After we have introduced a phenomenological model for the viscoelasticity of materials, we would like to connect this to the dynamics of polymers. This means, we have to connect the reponse of polmyer to deformations to the polymer chain in a way."
   ]
  },
  {
   "cell_type": "markdown",
   "id": "a9661427",
   "metadata": {},
   "source": [
    "## Diffusion of a single polymer chain"
   ]
  },
  {
   "cell_type": "markdown",
   "id": "2a7ee545",
   "metadata": {},
   "source": [
    "A first clue on the dynamics is already given by a process of the diffusion of the polymer chain. During diffusion, all segements fluctuate with the position and experience hdrodynamic friction. If the molecule would be a rigid sphere of radius $R$, the diffusion coefficient would be given by the Stokes-Einstein relation\n",
    "\n",
    "$$\n",
    "D=\\frac{k_{B}T}{\\gamma}=\\frac{k_B T}{6\\pi\\eta R}\n",
    "$$\n",
    "\n",
    "Using the mean squared displacement $\\langle r^{2}\\rangle=6Dt$, this also means that the particle will diffusion a distance corresponding to its own size in a time \n",
    "\n",
    "$$\n",
    "\\tau=\\frac{R^2}{D}=\\frac{R^2}{k_B T}\\gamma\n",
    "$$\n",
    "\n",
    "For a polymer, which is now a flexible entity, this time means that all conformational fluctuations have relaxed at this time and the polymer chain is displaced by its own radius. This therefore sets the longest timescale of relaxation. This relaxation timescale can now be obtained with different dynamic approaches, which are the **Rouse model** and the **Zimm model**. Both models differ mainly in how the hydrodynamic coupling of individual segements are considered. "
   ]
  },
  {
   "cell_type": "markdown",
   "id": "fc400dc7",
   "metadata": {},
   "source": [
    "### Rouse model"
   ]
  },
  {
   "cell_type": "markdown",
   "id": "ad6cea74",
   "metadata": {},
   "source": [
    "In the Rouse model, the polymer is approximated by a bead spring model of $N$ segments\n",
    "\n",
    "$$\n",
    "\\gamma\\frac{d\\vec{R}_n}{dt}=k\\left [ \\vec{R}_{n-1} - \\vec{R}_{n} + \\vec{R}_{n+1} - \\vec{R}_{n}\\right ] +\\vec{f}_n(t)\n",
    "$$\n",
    "\n",
    "where the force on the segment $n$ at a position $R_n$ is given by the forces exerced from the neighboring elements with a spring constant $k=3k_B T/b^2$ and the thermal noise force $\\vec{f}_n(t)$.\n",
    "\n",
    "Each of the segments is experiencing a friction given by the factor $\\gamma$. The total friction on the Rouse chain is now assumed to be\n",
    "\n",
    "$$\n",
    "\\gamma_R=N\\gamma\n",
    "$$\n",
    "\n",
    "which needs some short explanation, as this is one key assumption of the Rouse model. Imagine you have 5 different rigid spheres each experiencing the same friction coefficient and they are far apart from each other, the total friction coefficient will be $5\\gamma$. Yet if the spheres come closer to each other, the hydrodynamic flow fields around each sphere influence each other until the point when they are in close contact and act as a new body again. In this case, the friction coefficient will not be just the sum of all friction coefficients. This means the assumption of the Rouse model is now that the indivudal bead cause only localized flow fields when fluctuating, which are in turn not influencing the motion of the other segements.\n",
    "\n",
    "According to that, we may write down the time to diffuse the size $R$ of the polymer as\n",
    "\n",
    "$$\n",
    "\\tau_R=\\frac{R^2}{k_B T}N \\gamma \\tag{Rouse time}\n",
    "$$\n",
    "\n",
    "which is the Rouse time. At times shorter than the Rouse time, the polymer molecule exhibits viscoelastic relaxation modes. The longest reslaxation mode is that of the whole chain, which is the Rouse time $\\tau_R$.\n",
    "As the size of the polymer chain is approximately given by $R\\approx bN^{\\nu}$ with $\\nu$ beeing the fractal dimension (e.g. the Flory exponent) of the chain we obtain for the Rouse time\n",
    "\n",
    "$$\n",
    "\\tau_{R}=N \\frac{\\gamma}{\\underbrace{k_{B} T}_{\\tau_{0}}} b^{2} N^{2 \\nu}=\\tau_{0} N^{2 \\nu+1}\n",
    "$$\n",
    "\n",
    "where $\\tau_0$ is the relaxation time for a single segment in the chain. Depending if we now consider an ideal or a real chain, we find different scaling of the Rouse time with the number of segments, i.e. \n",
    "\n",
    "$$\n",
    "\\tau_{R} \\propto\\left\\{\\begin{array}{l}\n",
    "\\tau_{0} N^{2}  \\quad \\text { for ideal chain }(\\nu=1 / 2) \\\\\n",
    "\\tau_{0} N^{11 / 5} \\quad \\text { for real chain in good solvent }(\\nu \\approx 3 / 5)\n",
    "\\end{array}\\right.\n",
    "$$\n",
    "\n",
    "which is just a simple estimate.\n",
    "\n",
    "The full calculation by Rouse for an ideal chain shows a similar result, which is\n",
    "\n",
    "$$\n",
    "\\tau_{R}=\\frac{1}{6 \\pi^{2}} \\frac{\\gamma b^{2}}{k_{B} T} N^{2}.\n",
    "$$\n",
    "\n",
    "To summarize, on time scales smaller than $\\tau_R$, we expect to find **viscoelastic modes** of the polymer contributing to the modulus, while for modes larger than $\\tau_R$ everythong should be **diffusive**."
   ]
  },
  {
   "cell_type": "markdown",
   "id": "b300e00d",
   "metadata": {},
   "source": [
    "### Zimm model"
   ]
  },
  {
   "cell_type": "markdown",
   "id": "b92e060a",
   "metadata": {
    "tags": []
   },
   "source": [
    "The Zimm model now takes care of the fact that each segment is generating a flow field that decays as $1/r$ and is thus typically long range. Thus segements in the chain volume (the so called pervaded volume) are coupled by hydrodynamics in solution. This has to be taken into account for the dynamics of the polymer chain and the fact that the Rouse model neglects that restricts its validity essentially to the melt region (a system of polymer chains without solvent) only. \n",
    "\n",
    "This hydrodynamic coupling of in the Zimm model changes the friction coefficient of the chain to\n",
    "\n",
    "$$\n",
    "\\gamma_Z\\approx \\eta R\n",
    "$$\n",
    "\n",
    "with $R$ being the root mean squared end-to-end distance of the polymwer chain as used also in the Rouse model. Thus the Zimm chain beahves hydrodynamically more like a solid sphere rather than a collection of individual beads.\n",
    "\n",
    "With $R=bN^{\\nu}$ we find for the Zimm relaxation time \n",
    "\n",
    "$$\n",
    "\\tau_{Z} \\approx \\frac{R^{2}}{D_{Z}} \\approx \\frac{\\gamma_{Z}}{k_{B} T} R^{2} \\approx \\frac{\\eta}{k_{B} T} R^{3} \\approx \\frac{\\eta b^{3}}{k_{B} T} N^{3 \\nu}=\\tau_{0} N^{3 \\nu}\n",
    "$$\n",
    "\n",
    "while the full calculation by Zimm shows \n",
    "\n",
    "$$\n",
    "\\tau_{Z}=\\frac{1}{2 \\sqrt{3 \\pi}} \\frac{\\eta}{k_{B} T} R^{3}\n",
    "$$\n",
    "\n",
    "\n",
    "Using the exponents $\\nu$ for the ideal and the real chain, we can now make predictions for the scaling of the Zimm relaxation time for both chains, which gives\n",
    "\n",
    "$$\n",
    "\\tau_{z} \\propto \\begin{cases}\\tau_{0} N^{3 / 2}  & \\text { for ideal chain }(\\nu=1 / 2) \\\\ \\tau_{0} N^{9 / 5}  & \\text { for real chain in good solvent }(\\nu=3 / 5)\\end{cases}\n",
    "$$\n",
    "\n",
    "Thus, the scaling of relaxation times as predicted by the Zimm and the Rouse model is different. WHich regime is valid has to be decided based on experimental results. As mentioned before, the Zimm model is rather valid for dilute polymer solutions, while the Rouse model rather applies to the dynamics of polymer chains in the melt.\n"
   ]
  },
  {
   "cell_type": "markdown",
   "id": "83224260",
   "metadata": {},
   "source": [
    "## Intrinsic viscosity of polymer solutions"
   ]
  },
  {
   "cell_type": "markdown",
   "id": "c063ec28",
   "metadata": {},
   "source": [
    "In dilute solutions, polymer chains are isolated and deformed in an affine way. In such solutions, polymers linearly increase the viscosity of the solution with increasing concentration. To study the contribution of the polymer chains to the viscosity of the solution we define a specific viscosity \n",
    "\n",
    "$$\n",
    "\\eta_{sp}=\\frac{\\eta-\\eta_s}{\\eta_s}\n",
    "$$\n",
    "\n",
    "where $\\eta$ is the viscosity with polymers and $\\eta_s$ is the one of the solvent only. One may also write the same expression as $\\eta_{sp}=\\eta_r-1$ where $\\eta_r=\\eta/\\eta_s$ is the reduced viscosity. The contribution of a single polymer chain is then measured by the intrinsic viscosity \n",
    "\n",
    "$$\n",
    "[\\eta]=\\lim_{c\\rightarrow 0}\\frac{\\eta_{sp}}{c}\n",
    "$$\n",
    "\n",
    "where $c$ is the polymer concentration. Note that the intrinsic vsicosity now has the unit of an inverse concentration. Using this intrinsic value we may connect now the viscosity to the shear modulus, e.g. by using the result of the Maxwell model\n",
    "\n",
    "$$\n",
    "\\eta \\approx G(\\tau)\\int \\exp(-t/\\tau)dt=G(\\tau)\\tau\n",
    "$$\n",
    "\n"
   ]
  },
  {
   "cell_type": "markdown",
   "id": "92a3f598",
   "metadata": {},
   "source": [
    "### Affine Deformation and Entropy"
   ]
  },
  {
   "cell_type": "markdown",
   "id": "740bb7cb",
   "metadata": {},
   "source": [
    "To include the polymer in the shear viscosity, we have to consider an affine deformation of the chain. \n",
    "\n",
    "**insert image here**"
   ]
  },
  {
   "cell_type": "markdown",
   "id": "641c9378",
   "metadata": {},
   "source": [
    "As we have discussed earlier, the entropy of a single chain with an end-to-end distance $R$ can be calculated from\n",
    "\n",
    "\\begin{eqnarray}\n",
    "S(R)&=&k_B \\ln(p(\\vec{R},N))+{\\rm const}\\\\\n",
    "&=&-\\frac{3}{2}\\frac{k_B R^2}{Nb^2}+{\\rm const} \\tag{FJC}\n",
    "\\end{eqnarray}\n",
    "\n",
    "In our lab system the end-to-edn vector length $R^2$ can be expressed by its components such that\n",
    "\n",
    "$$\n",
    "S(R)=-\\frac{3}{2}\\frac{k_B (R_x^2+R_y^2+R_z^2)}{Nb^2}+{\\rm const}\n",
    "$$\n",
    "\n",
    "If we now introduce a deformation \n",
    "\n",
    "$$\n",
    "L_x=\\lambda_x L_{X0},\\, L_y=\\lambda_y L_{Y0},\\, L_z=\\lambda_z L_{Z0}\n",
    "$$\n",
    "\n",
    "where the $\\lambda$ are just scaling factors for the volume, we can also assume that the components of the end-to-end vectro scale in the same way, i.e.\n",
    "\n",
    "$$\n",
    "R_x=\\lambda_x R_{X0},\\, R_y=\\lambda_y R_{Y0},\\, R_z=\\lambda_z R_{Z0}\n",
    "$$\n",
    "\n",
    "such that we obtain for the change in entropy upon deformation\n",
    "\n",
    "$$\n",
    "\\Delta S=S(R)-S(R_0)=\\frac{3}{2}\\frac{k_B}{Nb^2}\\left [(\\lambda_x^2-1)R_{X0}^2 +(\\lambda_y^2-1)R_{Y0}^2+(\\lambda_z^2-1)R_{Z0}^2\\right ]\n",
    "$$\n",
    "\n",
    "If we have now a system of $n$-chains in the solution, we have to sum up all squared components of the end-to-end distance\n",
    "\n",
    "$$\n",
    "\\sum_{i=1}^{n}(R_{X0})_i^2=n\\frac{1}{n}\\sum_{i=1}^{n}(R_{X0})_i^2=n\\langle R_{XO}^2\\rangle=n\\frac{Nb^2}{3}\n",
    "$$\n",
    "\n",
    "using our previous result for the mean squared end-to-end distance. This finally results in\n",
    "\n",
    "$$\n",
    "\\Delta S=-\\frac{n k_B}{2}(\\lambda_x^2+\\lambda_y^2+\\lambda_z^2-3)\n",
    "$$\n",
    "\n",
    "for the entropy change of all chains. The results lets us calculate the change in free energy $\\Delta F=-T \\Delta S$, which is\n",
    "\n",
    "$$\n",
    "\\Delta F=-\\frac{n k_B T}{2}(\\lambda_x^2+\\lambda_y^2+\\lambda_z^2-3)\n",
    "$$\n",
    "\n",
    "If we assume now that the volume is unchanged upon deformation, i.e. $V=\\lambda_x\\lambda_y\\lambda_z V$ or $\\lambda_x\\lambda_y\\lambda_z=1$, we can express a uniaxial deformation along the x-axis as\n",
    "\n",
    "$$\n",
    "\\lambda_x=\\lambda.\\, \\lambda_y=\\lambda_z=\\frac{1}{\\sqrt{\\lambda}}\n",
    "$$\n",
    "\n",
    "from whgich we obtain for the deformation\n",
    "\n",
    "$$\n",
    "\\Delta F= \\frac{n k_B T}{2}(\\lambda^2+\\frac{2}{\\lambda}-3)\n",
    "$$"
   ]
  },
  {
   "cell_type": "code",
   "execution_count": 4,
   "id": "cd9bbe8c",
   "metadata": {
    "nbsphinx": "hidden",
    "tags": []
   },
   "outputs": [],
   "source": [
    "def free_energy(lam):\n",
    "    return(lam**2+2/lam-3)"
   ]
  },
  {
   "cell_type": "code",
   "execution_count": 11,
   "id": "81d2a256",
   "metadata": {
    "nbsphinx": "hidden",
    "tags": []
   },
   "outputs": [],
   "source": [
    "l=np.linspace(0.5,1.5,100)"
   ]
  },
  {
   "cell_type": "code",
   "execution_count": 20,
   "id": "740b70be",
   "metadata": {
    "nbsphinx": "hidden",
    "tags": []
   },
   "outputs": [
    {
     "data": {
      "image/png": "[encoded data removed]",
      "text/plain": [
       "<Figure size 432x288 with 1 Axes>"
      ]
     },
     "metadata": {
      "image/png": {
       "height": 270,
       "width": 403
      },
      "needs_background": "light"
     },
     "output_type": "display_data"
    }
   ],
   "source": [
    "plt.plot(l,free_energy(l))\n",
    "plt.xlabel(r\"$\\lambda$\")\n",
    "plt.ylabel(r\"$\\Delta F$\")\n",
    "plt.tight_layout()\n",
    "plt.savefig(\"test.svg\")\n",
    "plt.show()"
   ]
  },
  {
   "cell_type": "markdown",
   "id": "9d89f0dd-b3c7-4f84-a77f-c1bcb6c9ffce",
   "metadata": {},
   "source": [
    "![](test.svg)"
   ]
  },
  {
   "cell_type": "markdown",
   "id": "74cc5a7b",
   "metadata": {},
   "source": [
    "The corresponding force that has to be applied to stretch the molecules can be calculated from the derivative\n",
    "\n",
    "\\begin{eqnarray}\n",
    "f_x&=&\\frac{\\partial \\Delta F}{\\partial L_x}=\\frac{\\partial \\Delta F}{\\partial\\lambda L_{x0}}=\\frac{1}{L_{x0}}\\frac{\\partial \\Delta F}{\\partial \\lambda}\\\\\n",
    "&=&\\frac{nK_B T}{L_{x0}}(\\lambda-\\frac{1}{\\lambda^2})\n",
    "\\end{eqnarray}\n",
    "\n",
    "which results in a stress\n",
    "\n",
    "\\begin{eqnarray}\n",
    "\\sigma_{xx}&=&\\frac{f_x}{L_yL_z}=\\frac{nK_B T}{L_{x0}L_{y}L_{z}}\\\\\n",
    "&=&\\frac{nk_B T}{L_{x0}L_{y0}L_{z0}}\\lambda\\left (\\lambda-\\frac{1}{\\lambda^2}\\right )\\\\\n",
    "&=&\\frac{n}{V}k_B T \\left (\\lambda^2-\\frac{1}{\\lambda}\\right )\n",
    "\\end{eqnarray}\n",
    "\n",
    "As the stress is in general the result of a modulus $G$ multiplied with a deformation and the term with the $\\lambda$ denotes the deformation, we have found the modulus to be\n",
    "\n",
    "$$\n",
    "G=\\frac{n}{V}k_B T=\\frac{\\rho R_M T}{M_s}\n",
    "$$\n",
    "\n",
    "where $R_M$ is gas constant, $\\rho$ the density and $M_s$ the molar mass of a single strand. The stress is this \n",
    "\n",
    "$$\n",
    "\\sigma=G \\left (\\lambda^2-\\frac{1}{\\lambda}\\right )\n",
    "$$\n",
    "\n",
    "Returning to our calculation of the contribution of the polymer chain to the intrinsic viscosity we may write \n",
    "\n",
    "$$\n",
    "[\\eta]=\\frac{1}{c}\\frac{\\eta-\\eta_{s}}{\\eta_{s}}=\\frac{1}{c}\\frac{G(\\tau)\\tau}{\\eta_s} \n",
    "$$\n",
    "\n",
    "with \n",
    "\n",
    "$$\n",
    "G(\\tau)=\\frac{\\rho R_M T}{M_s}=\\frac{\\rho N_A k_B T}{N M_b}\n",
    "$$\n",
    "\n",
    "with $M_b$ being the molar mass of the monomer (Kuhn segment). The intrinsic viscosity is therefore\n",
    "\n",
    "$$\n",
    "[\\eta]=\\frac{N_A k_B T}{ \\eta_s N M_b}\\tau\n",
    "$$\n",
    "\n",
    "With the result of Rouse for the Rouse time\n",
    "\n",
    "$$\n",
    "\\tau_R=\\frac{1}{6 \\pi^{2}} \\frac{\\gamma b^{2}}{k_{B} T} N^{2\\nu+1}=N\\frac{\\eta_s b}{k_B T}b^2 N^{2\\nu}\\frac{1}{6\\pi^2}\n",
    "$$\n",
    "\n",
    "we find for the **intrinsic viscosity of a Rouse chain**\n",
    "\n",
    "$$\n",
    "[\\eta]_R \\approx \\frac{N_A b^3}{M_b}N^{2\\nu}\\propto\n",
    "\\begin{cases}\n",
    "N, & \\text{ideal chain}\\\\\n",
    "N^{6/5},  & \\text{real chain in good solvent}\n",
    "\\end{cases}\n",
    "$$"
   ]
  },
  {
   "cell_type": "markdown",
   "id": "e2aef23c",
   "metadata": {},
   "source": [
    "A similar calculation can be done using the Zimm relaxation time\n",
    "\n",
    "$$\n",
    "\\tau_{Z} \\approx \\frac{\\eta b^{3}}{k_{B} T} N^{3 \\nu}\n",
    "$$\n",
    "\n",
    "which gives for the **intrinsic viscosity of a Zimm chain**\n",
    "\n",
    "$$\n",
    "[\\eta]_Z \\approx \\frac{N_A b^3}{M_b}N^{3\\nu-1}\\propto\n",
    "\\begin{cases}\n",
    "N^{1/2}, & \\text{ideal chain}\\\\\n",
    "N^{4/5},  & \\text{real chain in good solvent}\n",
    "\\end{cases}\n",
    "$$\n"
   ]
  }
 ],
 "metadata": {
  "celltoolbar": "Edit Metadata",
  "kernelspec": {
   "display_name": "Python 3 (ipykernel)",
   "language": "python",
   "name": "python3"
  },
  "language_info": {
   "codemirror_mode": {
    "name": "ipython",
    "version": 3
   },
   "file_extension": ".py",
   "mimetype": "text/x-python",
   "name": "python",
   "nbconvert_exporter": "python",
   "pygments_lexer": "ipython3",
   "version": "3.8.5"
  },
  "toc": {
   "base_numbering": 1,
   "nav_menu": {},
   "number_sections": true,
   "sideBar": true,
   "skip_h1_title": false,
   "title_cell": "Table of Contents",
   "title_sidebar": "Contents",
   "toc_cell": false,
   "toc_position": {},
   "toc_section_display": true,
   "toc_window_display": false
  },
  "widgets": {
   "application/vnd.jupyter.widget-state+json": {
    "state": {},
    "version_major": 2,
    "version_minor": 0
   }
  }
 },
 "nbformat": 4,
 "nbformat_minor": 5
}
