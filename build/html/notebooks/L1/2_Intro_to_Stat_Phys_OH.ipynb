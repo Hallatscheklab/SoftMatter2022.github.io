{
 "cells": [
  {
   "cell_type": "markdown",
   "metadata": {
    "colab_type": "text",
    "id": "view-in-github"
   },
   "source": [
    "<a href=\"https://colab.research.google.com/github/Hallatscheklab/SoftMatter22-23/blob/main/source/notebooks/L1/2_Intro_to_Stat_Phys_OH.ipynb\" target=\"_parent\"><img src=\"https://colab.research.google.com/assets/colab-badge.svg\" alt=\"Open In Colab\"/></a>"
   ]
  },
  {
   "cell_type": "markdown",
   "metadata": {
    "id": "F3W6cUBQ0S-E"
   },
   "source": [
    "# Statistical Physics Review \n",
    "### (A whirl wind introduction)\n",
    "\n"
   ]
  },
  {
   "cell_type": "markdown",
   "metadata": {
    "id": "HMKnKeDn2EVq"
   },
   "source": [
    "\n",
    "**Basic principle of statistical mechanics:** In an *isolated* system, all *allowed* *microstates* are equally likely.\n"
   ]
  },
  {
   "cell_type": "markdown",
   "metadata": {
    "id": "P40p-MSr3O4s"
   },
   "source": [
    "* An \"isolated\" system does not transfer energy, matter, volume or other conserved quantities outside its boundaries. A \"closed\" system can exchange energy, but not matter. \"Open\" systems typically exchange energy, matter and volume. Example: Biological systems (cells, organisms).\n",
    "* In classical physics (=all we care about in this course), a \"microstate\" is a specific microscopic configuration of all particles of the system.\n",
    "* All \"allowed\" microstates have the same energy, volume and number (and type) of particles.\n"
   ]
  },
  {
   "cell_type": "markdown",
   "metadata": {
    "id": "iLSWV3dYcbnF"
   },
   "source": [
    "<img src=\"https://github.com/Hallatscheklab/SoftMatter22-23/blob/main/source/notebooks/L1/img/trail-of-bright-light-in-box-460688633-5966b3605f9b5816183316bb.webp?raw=1\" alt=\"systems\" name=\"systems\" class=\"bg-primary mb-1\" width=\"500px\">"
   ]
  },
  {
   "cell_type": "markdown",
   "metadata": {
    "id": "8dl5NfUI57_K"
   },
   "source": [
    "Let's define $\\Omega(E,V,N)$ to be the total number of microstates {$\\nu$} with $E_\\nu=E$, $V_\\nu=V$ and $N_\\nu=N$.\n",
    "\n",
    "Then, based on our \"Basic Principle\", we can say that the probability of observing microstate $\\nu$ is given by $P(\\nu)=\\Omega(E,V,N)^{-1}$.\n",
    "\n",
    "N.B.: One could imagine measuring $P(\\nu)$ in two ways. (i) Follow a given system for a very long time and determine the fraction of the total time the system is in microstate $\\nu$. (ii) Alternatively, we could consider a very large ensemble of identical systems and determine the fraction of replicates that are in state $\\nu$. We will usually assume that both types of measurements give the same results in the thermodynamic limit (long times and large ensembles). This is called the *ergodicity* assumption. The breaking of ergodicity is topic of active research. Ergodicity is broken in certain models of glasses it is broken, reflecting the long relaxation times in these systems."
   ]
  },
  {
   "cell_type": "markdown",
   "metadata": {
    "id": "OTVYAuDH0S-G"
   },
   "source": [
    "## Thermodynamics\n",
    "\n",
    "### Fundamental Quantities\n",
    "\n",
    "We can define different thermodynamic systems depending on their ability to exchange energy and particles with the environment. \n",
    "\n",
    "<img src=\"https://github.com/Hallatscheklab/SoftMatter22-23/blob/main/source/notebooks/L1/img/systems.png?raw=1\" alt=\"systems\" name=\"systems\" class=\"bg-primary mb-1\" width=\"500px\">\n",
    "\n",
    "A system is called *isolated* if it can neither exchange energy nor particles with its environment. This ensemble of particles is also called $micro-canonical$. The energy in such a system can not fluctuate. It is a *closed system* if it can exchange energy with the surrounding, i.e., a heat bath keeping it at a constant temperature. The ensemble of particles in such a system corresponds to a *canonical* ensemble. Energy can fluctuate. In case the system can exchange also particles, it is called an *open system* or *grand-canonical* ensemble. \n",
    "\n",
    "A thermodynamic system can be defined by **state variables** $p$, $V$ and/or $T$. **State functions** are useful to formulate the laws of thermodynamics. A state function is independent of how one arrived at that particular state. They are most often used to characterize an equilibrium state.\n",
    "\n",
    "<div class=\"alert alert-warning\">\n",
    "    \n",
    "**Note:** State Function and State Variables\n",
    "    \n",
    "    \n",
    "- State function is a function of state variables that depends only on the state of the system.\n",
    "\n",
    "- State variables characterize the state of a system and are independent of how the system got there.\n",
    "    \n",
    "</div>\n",
    "\n",
    "We will refer to a number of state functions during the course. Here is a list of the most useful ones:\n",
    "\n",
    "- **Internal energy** $U$ (state function): \n",
    "\n",
    "State function. The total energy contained in a thermodynamic system. It is the energy necessary to create the system with the major components kinetic energy and potential energy.\n",
    "\n",
    "\\begin{equation}\n",
    "U=Q+W\n",
    "\\end{equation}\n",
    "\n",
    "The internal energy can be changed by supplying heat or doing work on the system such that\n",
    "\n",
    "\\begin{equation}\n",
    "dU=dQ-pdV\n",
    "\\end{equation}\n",
    "\n",
    "\n",
    "\n",
    "- **Enthalpy** $H$ (state function):\n",
    "\n",
    "The enthalpy $H$ of a system is measuring the internal energy plus the product of volume and pressure.\n",
    "\n",
    "\\begin{equation}\n",
    "H=U+pV\n",
    "\\end{equation}\n",
    "\n",
    "The enthalpy is especially useful for a system at constant pressure $p={\\rm const.}$, i.e., for processes where the volume can not be controlled. \n",
    "\n",
    "\\begin{equation}\n",
    "\\mathrm{d}H=\\mathrm{d}U+p\\mathrm{d}V+V\\mathrm{d}p=\\delta Q + V\\mathrm{d}p\n",
    "\\end{equation}\n",
    "\n",
    "In this case the change in enthalpy of a system corresponds to the exchanged heat.\n",
    "\n",
    "- **Entropy** $S$ (state function):  \n",
    "\n",
    "The change of entropy of a system is given by \n",
    "\\begin{equation}\n",
    "\\mathrm{d}S=\\frac{\\delta Q}{T},\n",
    "\\end{equation}\n",
    "\n",
    "where $T$ denotes the temperature and $\\delta Q$ the heat exchanged in a reversible process.\n",
    "\n",
    "- **Free Energy** $G$ or $F$ (state function):\n",
    "\n",
    "Free energies are useful for systems which can exchange energy with the environment but not particles. In such non-isolated systems we define the \n",
    "\n",
    "**Gibbs Free Energy**\n",
    " \n",
    "\\begin{equation}\n",
    "G=H-TS\n",
    "\\end{equation}\n",
    "\n",
    "for a system with constant pressure and \n",
    "\n",
    "\n",
    "**Helmholtz Free Energy** \n",
    " \n",
    "\\begin{equation}\n",
    "F=U-TS\n",
    "\\end{equation}\n",
    "    \n",
    "for a system with constant volume. Both quantities are used to indicate in which direction physical or chemical processes proceed. After we have written down the two first laws of thermodynamics, we will have a look at a specific example.\n",
    "\n"
   ]
  },
  {
   "cell_type": "markdown",
   "metadata": {
    "id": "6OSUKh000S-H"
   },
   "source": [
    "### Laws of Thermodynamics\n",
    "#### First Law of Thermodynamics\n",
    "\n",
    "The internal energy $U$ is connected to the first law of thermodynamics:\n",
    "\n",
    "\\begin{equation}\n",
    "\\mathrm dU=\\delta Q+\\delta W=\\delta Q-p\\mathrm dV\n",
    "\\end{equation}\n",
    "\n",
    "which states, that the energy contained in a system can be changed by providing heat or performing mechanical work on the system. Here $\\delta Q$ and $\\delta W$ are no state functions. They characterize a process of delivering heat or performing mechanical work.\n",
    "\n",
    "\n",
    "<div class=\"alert alert-warning\">\n",
    "\n",
    "**Note:** First Law of Thermodynamics\n",
    "\n",
    "- The internal energy of a system can only be changed by exchanging heat with the environment or by doing mechanical work on it (energy cannot appear or disappear).\n",
    "\n",
    "</div>\n",
    "\n",
    "\n",
    "\n",
    "\n",
    "\n",
    "#### Second Law of Thermodynamics\n",
    "\n",
    "\n",
    "While the internal energy $U$ may be fixed (i.e., $\\mathrm{d}U=0$), the system may exist in different configurations (see, for example, and ideal gas with different arrangements of molecules). Such an isolated system will always evolve such that the change in entropy is positive or zero ($\\mathrm{d}S\\ge 0$). This is equivalent to the formulation that the entropy becomes maximized. \n",
    "\n",
    "<div class=\"alert alert-warning\">\n",
    "\n",
    "**Note:** Second Law of Thermodynamics\n",
    "\n",
    "- When an isolated system is left alone long enough it evolves to thermal equilibrium whose entropy is at least as great as before ($\\mathrm{d}S \\gt 0$).\n",
    "\n",
    "\n",
    "\n"
   ]
  },
  {
   "cell_type": "markdown",
   "metadata": {
    "id": "wgIqrsta0S-I"
   },
   "source": [
    "<div class=\"alert alert-info\">\n",
    "\n",
    "**Example: Closed System in Contact with Reservoir**\n",
    "\n",
    "Look at the above figure of the closed systems (inner part) inside a temperature bath (reservoir). If we apply the 2nd Law of thermodynamics to reservoir and system we write down\n",
    "\n",
    "\\begin{equation}\n",
    "\\mathrm{d}S_{\\rm tot}=\\mathrm{d}S_{\\rm R}+ \\mathrm{d}S_{\\rm S}\\ge 0.\n",
    "\\end{equation}\n",
    "\n",
    "The system may exchange energy with the reservoir and, thus, according to the 1st Law of thermodynamics we have \n",
    "\n",
    "\\begin{equation}\n",
    "\\mathrm{d}U_{\\rm R}=T\\mathrm{d}S_{\\rm R}-p \\mathrm{d}V_{\\rm R}\n",
    "\\end{equation}\n",
    "\n",
    "with $T$ being the constant temperature of the reservoir. We may transform this equation and insert it into the 2nd law to obtain:\n",
    "\n",
    "\\begin{equation}\n",
    "\\mathrm{d}S_{\\rm S}+\\frac{\\mathrm{d}U_{\\rm R}}{T}+\\frac{p}{T}\\mathrm{d}V_{\\rm R}\\ge 0.\n",
    "\\end{equation}\n",
    "\n",
    "Using $\\mathrm{d}U_{\\rm R}=-\\mathrm{d}U_{\\rm S}$ and $\\mathrm{d}V_{\\rm R}=-\\mathrm{d}V_{\\rm S}$ we can transform the equation for constant pressure and temperature to \n",
    "\n",
    "\\begin{equation}\n",
    "\\mathrm{d}G=\\mathrm{d}(U_{\\rm S}+pV_{\\rm S}-TS_{\\rm S})\\le 0.\n",
    "\\end{equation}\n",
    "\n",
    "This indicates the direction in which a closed system, that can exchange energy with a bath, develops according to the 2nd Law of thermodynamics.\n",
    "\n",
    "**If we bring a small system into thermal contact with a reservoir, which is in equilibrium at temperature T, then the reservoir will stay in equilibrium at the same temperature, but the small system will come to a new equilibrium, which minimizes the free energy.**\n",
    "\n",
    "\n",
    "Thus, in equilibrium the free energy reaches a minimum value. Free energy minimization does two things at the same time: It tries to minimize the internal energy/enthalpy as well as to maximize the entropy (due to the negative sign in front of the entropy term) of a non-isolated object. The free energy minimum is, thus, the optimal balance between the two extrema. \n",
    "</div>"
   ]
  }
 ],
 "metadata": {
  "colab": {
   "include_colab_link": true,
   "provenance": []
  },
  "kernelspec": {
   "display_name": "Python 3 (ipykernel)",
   "language": "python",
   "name": "python3"
  },
  "language_info": {
   "codemirror_mode": {
    "name": "ipython",
    "version": 3
   },
   "file_extension": ".py",
   "mimetype": "text/x-python",
   "name": "python",
   "nbconvert_exporter": "python",
   "pygments_lexer": "ipython3",
   "version": "3.8.5"
  }
 },
 "nbformat": 4,
 "nbformat_minor": 0
}
